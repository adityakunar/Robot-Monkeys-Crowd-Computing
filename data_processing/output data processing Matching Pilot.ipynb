{
 "cells": [
  {
   "cell_type": "code",
   "execution_count": 1,
   "metadata": {},
   "outputs": [],
   "source": [
    "import pandas as pd"
   ]
  },
  {
   "cell_type": "code",
   "execution_count": 2,
   "metadata": {},
   "outputs": [],
   "source": [
    "pair_wise_out = pd.read_csv(\"Matching Pilot.csv\") \n",
    "pair_wise_in = pd.read_csv(\"Matching_HIT.csv\")"
   ]
  },
  {
   "cell_type": "code",
   "execution_count": 3,
   "metadata": {},
   "outputs": [],
   "source": [
    "true_labels = pair_wise_in.Labels.values[:15]\n"
   ]
  },
  {
   "cell_type": "code",
   "execution_count": 4,
   "metadata": {},
   "outputs": [],
   "source": [
    "#Needed to remove the ''\n",
    "true_labels =[[(0, 7), (1, 6), (4, 8)], [(1, 5), (2, 8), (3, 6)],\n",
    "       [(0, 5), (1, 8), (2, 9)], [(0, 7), (1, 6), (3, 8)],\n",
    "       [(1, 9), (2, 5)], [(0, 7), (1, 8), (2, 9), (3, 5)],\n",
    "       [(1, 7), (2, 8), (3, 9)], [(0, 5), (1, 8), (4, 9)],\n",
    "       [(2, 7), (3, 9), (4, 6)], [(0, 9), (1, 5), (3, 8)],\n",
    "       [(0, 5), (1, 9), (2, 6), (4, 7)], [(0, 9), (1, 8), (2, 5)],\n",
    "       [], [(3, 6)], [(2, 6)]] "
   ]
  },
  {
   "cell_type": "code",
   "execution_count": 5,
   "metadata": {},
   "outputs": [],
   "source": [
    "outputs = [[i,j,m,n,l] for i,j,m,n,l in zip(pair_wise_out[\"Answer.item0\"],pair_wise_out[\"Answer.item1\"],pair_wise_out[\"Answer.item2\"],pair_wise_out[\"Answer.item3\"],pair_wise_out[\"Answer.item4\"])]"
   ]
  },
  {
   "cell_type": "code",
   "execution_count": 6,
   "metadata": {},
   "outputs": [
    {
     "data": {
      "text/plain": [
       "[['3', '2', '1', 'None', '4'],\n",
       " ['1', '2', '3', '5', '4'],\n",
       " ['3', '2', '1', '5', '4'],\n",
       " ['None', '2', '1', 'None', 'None'],\n",
       " ['None', 'None', 'None', 'None', 'None'],\n",
       " ['None', 'None', 'None', 'None', 'None'],\n",
       " ['None', 'None', '2', '4', 'None'],\n",
       " ['None', 'None', 'None', 'None', 'None'],\n",
       " ['3', '2', '1', '4', '5'],\n",
       " ['None', 'None', '1', '4', 'None'],\n",
       " ['1', '4', '5', '3', '2'],\n",
       " ['None', '4', '5', 'None', 'None'],\n",
       " ['None', '4', '5', 'None', 'None'],\n",
       " ['None', '4', '5', 'None', 'None'],\n",
       " ['None', 'None', 'None', 'None', 'None'],\n",
       " ['3', 'None', 'None', 'None', 'None'],\n",
       " ['3', '2', '1', '4', '5'],\n",
       " ['3', 'None', 'None', '4', 'None'],\n",
       " ['3', 'None', 'None', '4', 'None'],\n",
       " ['3', 'None', 'None', '4', 'None'],\n",
       " ['3', '5', '1', 'None', '4'],\n",
       " ['None', 'None', '1', 'None', '4'],\n",
       " ['3', '5', '1', '2', '4'],\n",
       " ['None', 'None', 'None', 'None', 'None'],\n",
       " ['None', 'None', '1', 'None', 'None'],\n",
       " ['3', '4', '5', '1', '2'],\n",
       " ['None', 'None', 'None', '1', 'None'],\n",
       " ['None', '4', '5', '3', 'None'],\n",
       " ['3', '4', '5', '1', 'None'],\n",
       " ['None', '4', 'None', '1', 'None'],\n",
       " ['2', 'None', 'None', 'None', 'None'],\n",
       " ['2', '3', '5', '4', '1'],\n",
       " ['None', 'None', 'None', 'None', 'None'],\n",
       " ['2', '3', '4', '5', 'None'],\n",
       " ['2', '3', '4', '5', 'None'],\n",
       " ['1', '4', '3', '2', '5'],\n",
       " ['None', 'None', '4', 'None', '5'],\n",
       " ['None', '4', 'None', 'None', '5'],\n",
       " ['1', '4', 'None', 'None', '5'],\n",
       " ['None', '4', 'None', 'None', '5'],\n",
       " ['None', 'None', 'None', 'None', 'None'],\n",
       " ['1', '4', '2', '5', '3'],\n",
       " ['None', 'None', 'None', 'None', 'None'],\n",
       " ['1', 'None', '3', '4', '2'],\n",
       " ['None', 'None', 'None', 'None', 'None'],\n",
       " ['5', '1', '2', '4', '3'],\n",
       " ['None', '1', 'None', '4', 'None'],\n",
       " ['None', '2', 'None', '4', 'None'],\n",
       " ['None', '1', 'None', '4', 'None'],\n",
       " ['None', '1', 'None', '4', 'None'],\n",
       " ['1', '2', '5', 'None', 'None'],\n",
       " ['None', 'None', 'None', 'None', 'None'],\n",
       " ['None', 'None', 'None', 'None', 'None'],\n",
       " ['None', 'None', 'None', 'None', 'None'],\n",
       " ['1', '2', '5', '3', '4'],\n",
       " ['None', 'None', '1', 'None', '5'],\n",
       " ['None', 'None', 'None', 'None', 'None'],\n",
       " ['5', '4', '1', '2', '1'],\n",
       " ['None', 'None', '1', 'None', 'None'],\n",
       " ['5', '4', '1', '3', '2'],\n",
       " ['1', '4', '2', '3', '5'],\n",
       " ['None', '4', 'None', 'None', 'None'],\n",
       " ['None', 'None', 'None', 'None', 'None'],\n",
       " ['None', '4', 'None', 'None', 'None'],\n",
       " ['None', 'None', 'None', 'None', 'None'],\n",
       " ['None', 'None', 'None', 'None', 'None'],\n",
       " ['None', 'None', 'None', '2', 'None'],\n",
       " ['4', '3', '1', '2', '5'],\n",
       " ['None', 'None', 'None', 'None', 'None'],\n",
       " ['None', 'None', 'None', 'None', 'None'],\n",
       " ['2', 'None', 'None', 'None', '1'],\n",
       " ['2', 'None', 'None', 'None', '1'],\n",
       " ['2', '3', '4', '5', '1'],\n",
       " ['None', 'None', 'None', 'None', 'None'],\n",
       " ['2', 'None', 'None', 'None', 'None']]"
      ]
     },
     "execution_count": 6,
     "metadata": {},
     "output_type": "execute_result"
    }
   ],
   "source": [
    "outputs"
   ]
  },
  {
   "cell_type": "code",
   "execution_count": 7,
   "metadata": {},
   "outputs": [],
   "source": [
    "no_of_workers= 5\n",
    "worker_labels=[]\n",
    "for i in range(0,len(outputs),no_of_workers):\n",
    "    worker_labels.append(outputs[i:i+no_of_workers])\n"
   ]
  },
  {
   "cell_type": "code",
   "execution_count": 8,
   "metadata": {},
   "outputs": [
    {
     "data": {
      "text/plain": [
       "[[['3', '2', '1', 'None', '4'],\n",
       "  ['1', '2', '3', '5', '4'],\n",
       "  ['3', '2', '1', '5', '4'],\n",
       "  ['None', '2', '1', 'None', 'None'],\n",
       "  ['None', 'None', 'None', 'None', 'None']],\n",
       " [['None', 'None', 'None', 'None', 'None'],\n",
       "  ['None', 'None', '2', '4', 'None'],\n",
       "  ['None', 'None', 'None', 'None', 'None'],\n",
       "  ['3', '2', '1', '4', '5'],\n",
       "  ['None', 'None', '1', '4', 'None']],\n",
       " [['1', '4', '5', '3', '2'],\n",
       "  ['None', '4', '5', 'None', 'None'],\n",
       "  ['None', '4', '5', 'None', 'None'],\n",
       "  ['None', '4', '5', 'None', 'None'],\n",
       "  ['None', 'None', 'None', 'None', 'None']],\n",
       " [['3', 'None', 'None', 'None', 'None'],\n",
       "  ['3', '2', '1', '4', '5'],\n",
       "  ['3', 'None', 'None', '4', 'None'],\n",
       "  ['3', 'None', 'None', '4', 'None'],\n",
       "  ['3', 'None', 'None', '4', 'None']],\n",
       " [['3', '5', '1', 'None', '4'],\n",
       "  ['None', 'None', '1', 'None', '4'],\n",
       "  ['3', '5', '1', '2', '4'],\n",
       "  ['None', 'None', 'None', 'None', 'None'],\n",
       "  ['None', 'None', '1', 'None', 'None']],\n",
       " [['3', '4', '5', '1', '2'],\n",
       "  ['None', 'None', 'None', '1', 'None'],\n",
       "  ['None', '4', '5', '3', 'None'],\n",
       "  ['3', '4', '5', '1', 'None'],\n",
       "  ['None', '4', 'None', '1', 'None']],\n",
       " [['2', 'None', 'None', 'None', 'None'],\n",
       "  ['2', '3', '5', '4', '1'],\n",
       "  ['None', 'None', 'None', 'None', 'None'],\n",
       "  ['2', '3', '4', '5', 'None'],\n",
       "  ['2', '3', '4', '5', 'None']],\n",
       " [['1', '4', '3', '2', '5'],\n",
       "  ['None', 'None', '4', 'None', '5'],\n",
       "  ['None', '4', 'None', 'None', '5'],\n",
       "  ['1', '4', 'None', 'None', '5'],\n",
       "  ['None', '4', 'None', 'None', '5']],\n",
       " [['None', 'None', 'None', 'None', 'None'],\n",
       "  ['1', '4', '2', '5', '3'],\n",
       "  ['None', 'None', 'None', 'None', 'None'],\n",
       "  ['1', 'None', '3', '4', '2'],\n",
       "  ['None', 'None', 'None', 'None', 'None']],\n",
       " [['5', '1', '2', '4', '3'],\n",
       "  ['None', '1', 'None', '4', 'None'],\n",
       "  ['None', '2', 'None', '4', 'None'],\n",
       "  ['None', '1', 'None', '4', 'None'],\n",
       "  ['None', '1', 'None', '4', 'None']],\n",
       " [['1', '2', '5', 'None', 'None'],\n",
       "  ['None', 'None', 'None', 'None', 'None'],\n",
       "  ['None', 'None', 'None', 'None', 'None'],\n",
       "  ['None', 'None', 'None', 'None', 'None'],\n",
       "  ['1', '2', '5', '3', '4']],\n",
       " [['None', 'None', '1', 'None', '5'],\n",
       "  ['None', 'None', 'None', 'None', 'None'],\n",
       "  ['5', '4', '1', '2', '1'],\n",
       "  ['None', 'None', '1', 'None', 'None'],\n",
       "  ['5', '4', '1', '3', '2']],\n",
       " [['1', '4', '2', '3', '5'],\n",
       "  ['None', '4', 'None', 'None', 'None'],\n",
       "  ['None', 'None', 'None', 'None', 'None'],\n",
       "  ['None', '4', 'None', 'None', 'None'],\n",
       "  ['None', 'None', 'None', 'None', 'None']],\n",
       " [['None', 'None', 'None', 'None', 'None'],\n",
       "  ['None', 'None', 'None', '2', 'None'],\n",
       "  ['4', '3', '1', '2', '5'],\n",
       "  ['None', 'None', 'None', 'None', 'None'],\n",
       "  ['None', 'None', 'None', 'None', 'None']],\n",
       " [['2', 'None', 'None', 'None', '1'],\n",
       "  ['2', 'None', 'None', 'None', '1'],\n",
       "  ['2', '3', '4', '5', '1'],\n",
       "  ['None', 'None', 'None', 'None', 'None'],\n",
       "  ['2', 'None', 'None', 'None', 'None']]]"
      ]
     },
     "execution_count": 8,
     "metadata": {},
     "output_type": "execute_result"
    }
   ],
   "source": [
    "worker_labels"
   ]
  },
  {
   "cell_type": "code",
   "execution_count": 9,
   "metadata": {},
   "outputs": [
    {
     "data": {
      "text/plain": [
       "array([['None', 'None', 'None', 'None', 'None'],\n",
       "       ['None', 'None', '2', '4', 'None'],\n",
       "       ['None', 'None', 'None', 'None', 'None'],\n",
       "       ['3', '2', '1', '4', '5'],\n",
       "       ['None', 'None', '1', '4', 'None']], dtype='<U4')"
      ]
     },
     "execution_count": 9,
     "metadata": {},
     "output_type": "execute_result"
    }
   ],
   "source": [
    "import numpy as np\n",
    "np.array(worker_labels[1])"
   ]
  },
  {
   "cell_type": "code",
   "execution_count": 10,
   "metadata": {},
   "outputs": [
    {
     "data": {
      "text/plain": [
       "'None'"
      ]
     },
     "execution_count": 10,
     "metadata": {},
     "output_type": "execute_result"
    }
   ],
   "source": [
    "pd.Series(np.array(worker_labels[1])[:,0]).value_counts().index[0]"
   ]
  },
  {
   "cell_type": "code",
   "execution_count": 12,
   "metadata": {},
   "outputs": [],
   "source": [
    "# Majority voting with 5.\n",
    "single_label_5=[]\n",
    "for i in (worker_labels):\n",
    "    single_label=[]\n",
    "    mat=np.array(i)\n",
    "    for k in range(mat.shape[1]):\n",
    "        f=mat[:,k]\n",
    "        single_label.append(pd.Series(f).value_counts().index[0])\n",
    "    single_label_5.append(single_label)\n",
    "    "
   ]
  },
  {
   "cell_type": "code",
   "execution_count": 13,
   "metadata": {},
   "outputs": [],
   "source": [
    "# Majority voting with 3.\n",
    "single_label_3=[]\n",
    "for i in (worker_labels):\n",
    "    single_label=[]\n",
    "    mat=np.array(i)\n",
    "    for k in range(mat.shape[1]):\n",
    "        f=mat[:3,k]\n",
    "        single_label.append(pd.Series(f).value_counts().index[0])\n",
    "    single_label_3.append(single_label)"
   ]
  },
  {
   "cell_type": "code",
   "execution_count": 14,
   "metadata": {},
   "outputs": [
    {
     "data": {
      "text/plain": [
       "[['3', '2', '1', 'None', '4'],\n",
       " ['None', 'None', '1', '4', 'None'],\n",
       " ['None', '4', '5', 'None', 'None'],\n",
       " ['3', 'None', 'None', '4', 'None'],\n",
       " ['None', 'None', '1', 'None', '4'],\n",
       " ['None', '4', '5', '1', 'None'],\n",
       " ['2', '3', '4', '5', 'None'],\n",
       " ['None', '4', 'None', 'None', '5'],\n",
       " ['None', 'None', 'None', 'None', 'None'],\n",
       " ['None', '1', 'None', '4', 'None'],\n",
       " ['None', 'None', 'None', 'None', 'None'],\n",
       " ['None', 'None', '1', 'None', 'None'],\n",
       " ['None', '4', 'None', 'None', 'None'],\n",
       " ['None', 'None', 'None', 'None', 'None'],\n",
       " ['2', 'None', 'None', 'None', '1']]"
      ]
     },
     "execution_count": 14,
     "metadata": {},
     "output_type": "execute_result"
    }
   ],
   "source": [
    "(single_label_5)"
   ]
  },
  {
   "cell_type": "code",
   "execution_count": 15,
   "metadata": {},
   "outputs": [
    {
     "data": {
      "text/plain": [
       "['3', '2', '1', 'None', '4']"
      ]
     },
     "execution_count": 15,
     "metadata": {},
     "output_type": "execute_result"
    }
   ],
   "source": [
    "single_label_5[0]"
   ]
  },
  {
   "cell_type": "code",
   "execution_count": 16,
   "metadata": {},
   "outputs": [],
   "source": [
    "converted_labels=[]\n",
    "for i in single_label_5:\n",
    "    single_label_c=[]\n",
    "    for k in enumerate(i):\n",
    "        if k[1]!=\"None\":\n",
    "            single_label_c.append((k[0],4+int(k[1])))\n",
    "    converted_labels.append(single_label_c)"
   ]
  },
  {
   "cell_type": "code",
   "execution_count": 17,
   "metadata": {},
   "outputs": [
    {
     "name": "stdout",
     "output_type": "stream",
     "text": [
      "TP,FP,TN,FN are as follows for this question.\n",
      "[3, 1, 18, 3]\n",
      "TP,FP,TN,FN are as follows for this question.\n",
      "[0, 2, 20, 3]\n",
      "TP,FP,TN,FN are as follows for this question.\n",
      "[2, 0, 20, 3]\n",
      "TP,FP,TN,FN are as follows for this question.\n",
      "[2, 0, 20, 3]\n",
      "TP,FP,TN,FN are as follows for this question.\n",
      "[1, 1, 21, 2]\n",
      "TP,FP,TN,FN are as follows for this question.\n",
      "[3, 0, 18, 4]\n",
      "TP,FP,TN,FN are as follows for this question.\n",
      "[3, 1, 18, 3]\n",
      "TP,FP,TN,FN are as follows for this question.\n",
      "[2, 0, 20, 3]\n",
      "TP,FP,TN,FN are as follows for this question.\n",
      "[0, 0, 22, 3]\n",
      "TP,FP,TN,FN are as follows for this question.\n",
      "[2, 0, 20, 3]\n",
      "TP,FP,TN,FN are as follows for this question.\n",
      "[0, 0, 21, 4]\n",
      "TP,FP,TN,FN are as follows for this question.\n",
      "[1, 0, 21, 3]\n",
      "TP,FP,TN,FN are as follows for this question.\n",
      "[0, 1, 24, 0]\n",
      "TP,FP,TN,FN are as follows for this question.\n",
      "[0, 0, 24, 1]\n",
      "TP,FP,TN,FN are as follows for this question.\n",
      "[0, 2, 22, 1]\n"
     ]
    }
   ],
   "source": [
    "allposs=[]\n",
    "for i in range(5):\n",
    "    for j in range(5,10):\n",
    "        allposs.append((i,j))\n",
    "cms=[]\n",
    "precs=[]\n",
    "recs=[]\n",
    "for i,j in zip(true_labels,converted_labels):\n",
    "    TP= len(i)-len(set(i)-set(j))\n",
    "    FP= len(set(j)-set(i))\n",
    "    TN= -1*((len(set(allposs)))-(len(set(allposs)-set(i)))-len(set(allposs)-set(j)))\n",
    "    FN= len(allposs)-TP-FP-TN\n",
    "    print(\"TP,FP,TN,FN are as follows for this question.\")\n",
    "    cm=[TP,FP,TN,FN]\n",
    "    cms.append(cm)\n",
    "    print(cm)\n",
    "    "
   ]
  },
  {
   "cell_type": "code",
   "execution_count": 18,
   "metadata": {},
   "outputs": [],
   "source": [
    "FinalCM=np.array(cms).mean(axis=0)"
   ]
  },
  {
   "cell_type": "code",
   "execution_count": 19,
   "metadata": {},
   "outputs": [],
   "source": [
    "Precision = FinalCM[0]/(FinalCM[0]+FinalCM[1])"
   ]
  },
  {
   "cell_type": "code",
   "execution_count": 20,
   "metadata": {},
   "outputs": [],
   "source": [
    "Recall = FinalCM[0]/(FinalCM[0]+FinalCM[3])"
   ]
  },
  {
   "cell_type": "code",
   "execution_count": 21,
   "metadata": {},
   "outputs": [
    {
     "data": {
      "text/plain": [
       "0.7037037037037037"
      ]
     },
     "execution_count": 21,
     "metadata": {},
     "output_type": "execute_result"
    }
   ],
   "source": [
    "Precision"
   ]
  },
  {
   "cell_type": "code",
   "execution_count": 22,
   "metadata": {},
   "outputs": [
    {
     "data": {
      "text/plain": [
       "0.3275862068965517"
      ]
     },
     "execution_count": 22,
     "metadata": {},
     "output_type": "execute_result"
    }
   ],
   "source": [
    "Recall"
   ]
  },
  {
   "cell_type": "code",
   "execution_count": 23,
   "metadata": {},
   "outputs": [],
   "source": [
    "F1_score = (2 * Precision * Recall) / (Precision + Recall)"
   ]
  },
  {
   "cell_type": "code",
   "execution_count": 24,
   "metadata": {},
   "outputs": [
    {
     "data": {
      "text/plain": [
       "0.4470588235294118"
      ]
     },
     "execution_count": 24,
     "metadata": {},
     "output_type": "execute_result"
    }
   ],
   "source": [
    "F1_score"
   ]
  },
  {
   "cell_type": "code",
   "execution_count": 26,
   "metadata": {},
   "outputs": [
    {
     "name": "stdout",
     "output_type": "stream",
     "text": [
      "TP,FP,TN,FN are as follows for this question.\n",
      "[3, 2, 17, 3]\n",
      "TP,FP,TN,FN are as follows for this question.\n",
      "[0, 0, 22, 3]\n",
      "TP,FP,TN,FN are as follows for this question.\n",
      "[2, 0, 20, 3]\n",
      "TP,FP,TN,FN are as follows for this question.\n",
      "[2, 0, 20, 3]\n",
      "TP,FP,TN,FN are as follows for this question.\n",
      "[2, 2, 19, 2]\n",
      "TP,FP,TN,FN are as follows for this question.\n",
      "[3, 0, 18, 4]\n",
      "TP,FP,TN,FN are as follows for this question.\n",
      "[0, 1, 21, 3]\n",
      "TP,FP,TN,FN are as follows for this question.\n",
      "[2, 1, 19, 3]\n",
      "TP,FP,TN,FN are as follows for this question.\n",
      "[0, 0, 22, 3]\n",
      "TP,FP,TN,FN are as follows for this question.\n",
      "[2, 0, 20, 3]\n",
      "TP,FP,TN,FN are as follows for this question.\n",
      "[0, 0, 21, 4]\n",
      "TP,FP,TN,FN are as follows for this question.\n",
      "[1, 1, 20, 3]\n",
      "TP,FP,TN,FN are as follows for this question.\n",
      "[0, 1, 24, 0]\n",
      "TP,FP,TN,FN are as follows for this question.\n",
      "[1, 0, 23, 1]\n",
      "TP,FP,TN,FN are as follows for this question.\n",
      "[0, 2, 22, 1]\n"
     ]
    }
   ],
   "source": [
    "converted_labels=[]\n",
    "for i in single_label_3:\n",
    "    single_label_c=[]\n",
    "    for k in enumerate(i):\n",
    "        if k[1]!=\"None\":\n",
    "            single_label_c.append((k[0],4+int(k[1])))\n",
    "    converted_labels.append(single_label_c)\n",
    "    \n",
    "    \n",
    "allposs=[]\n",
    "for i in range(5):\n",
    "    for j in range(5,10):\n",
    "        allposs.append((i,j))\n",
    "cms=[]\n",
    "precs=[]\n",
    "recs=[]\n",
    "for i,j in zip(true_labels,converted_labels):\n",
    "    TP= len(i)-len(set(i)-set(j))\n",
    "    FP= len(set(j)-set(i))\n",
    "    TN= -1*((len(set(allposs)))-(len(set(allposs)-set(i)))-len(set(allposs)-set(j)))\n",
    "    FN= len(allposs)-TP-FP-TN\n",
    "    print(\"TP,FP,TN,FN are as follows for this question.\")\n",
    "    cm=[TP,FP,TN,FN]\n",
    "    cms.append(cm)\n",
    "    print(cm)    \n",
    "    \n",
    "FinalCM=np.array(cms).mean(axis=0)    \n",
    "\n",
    "Precision = FinalCM[0]/(FinalCM[0]+FinalCM[1])"
   ]
  },
  {
   "cell_type": "code",
   "execution_count": 27,
   "metadata": {},
   "outputs": [
    {
     "data": {
      "text/plain": [
       "0.6428571428571428"
      ]
     },
     "execution_count": 27,
     "metadata": {},
     "output_type": "execute_result"
    }
   ],
   "source": [
    "Precision"
   ]
  },
  {
   "cell_type": "code",
   "execution_count": 28,
   "metadata": {},
   "outputs": [
    {
     "data": {
      "text/plain": [
       "0.3275862068965517"
      ]
     },
     "execution_count": 28,
     "metadata": {},
     "output_type": "execute_result"
    }
   ],
   "source": [
    "Recall"
   ]
  },
  {
   "cell_type": "code",
   "execution_count": 29,
   "metadata": {},
   "outputs": [],
   "source": [
    "F1_score = (2 * Precision * Recall) / (Precision + Recall)"
   ]
  },
  {
   "cell_type": "code",
   "execution_count": 30,
   "metadata": {},
   "outputs": [
    {
     "data": {
      "text/plain": [
       "0.43401015228426393"
      ]
     },
     "execution_count": 30,
     "metadata": {},
     "output_type": "execute_result"
    }
   ],
   "source": [
    "F1_score"
   ]
  },
  {
   "cell_type": "code",
   "execution_count": null,
   "metadata": {},
   "outputs": [],
   "source": []
  }
 ],
 "metadata": {
  "kernelspec": {
   "display_name": "Python 3",
   "language": "python",
   "name": "python3"
  },
  "language_info": {
   "codemirror_mode": {
    "name": "ipython",
    "version": 3
   },
   "file_extension": ".py",
   "mimetype": "text/x-python",
   "name": "python",
   "nbconvert_exporter": "python",
   "pygments_lexer": "ipython3",
   "version": "3.7.3"
  }
 },
 "nbformat": 4,
 "nbformat_minor": 2
}
