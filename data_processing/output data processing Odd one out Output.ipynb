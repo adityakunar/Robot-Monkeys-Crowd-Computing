{
 "cells": [
  {
   "cell_type": "code",
   "execution_count": 9,
   "metadata": {},
   "outputs": [],
   "source": [
    "import pandas as pd"
   ]
  },
  {
   "cell_type": "code",
   "execution_count": 10,
   "metadata": {},
   "outputs": [],
   "source": [
    "pair_wise_out = pd.read_csv(\"Output/leave-one-out.csv\") \n",
    "pair_wise_in = pd.read_csv(\"Odd-one-out.csv\")"
   ]
  },
  {
   "cell_type": "code",
   "execution_count": 11,
   "metadata": {},
   "outputs": [
    {
     "data": {
      "text/plain": [
       "array([0, 2, 3, 4, 0, 3, 2, 0, 0, 1, 2, 4, 0, 4, 4, 0, 4, 1, 0, 2, 1, 0,\n",
       "       2, 4, 3, 2, 4, 3, 3, 1], dtype=int64)"
      ]
     },
     "execution_count": 11,
     "metadata": {},
     "output_type": "execute_result"
    }
   ],
   "source": [
    "true_labels = pair_wise_in.Label.values[:30]\n",
    "true_labels"
   ]
  },
  {
   "cell_type": "code",
   "execution_count": 12,
   "metadata": {},
   "outputs": [
    {
     "data": {
      "text/plain": [
       "210"
      ]
     },
     "execution_count": 12,
     "metadata": {},
     "output_type": "execute_result"
    }
   ],
   "source": [
    "len(pair_wise_out[\"Input.Record1\"])"
   ]
  },
  {
   "cell_type": "code",
   "execution_count": 13,
   "metadata": {},
   "outputs": [
    {
     "data": {
      "text/plain": [
       "0                  'Fraggment an sich I (Weltentraum)' \n",
       "1           \"Véronique Rivière - Baby, I'm a Want You\" \n",
       "2                              \"Don't Dream It's Over\" \n",
       "3                                  'Hard on Me - Gold' \n",
       "4                                         'Daytime TV' \n",
       "5                                  '001-Dil Ka Rishta' \n",
       "6                                 \"Walkin' on the Sun\" \n",
       "7                        '012-Owner of a Lonely Heart' \n",
       "8           'Love Forsaken (In A Dream Full Of Charm)' \n",
       "9                                  I'll Get By (Della) \n",
       "10                'Elvis Presley - Riding the Rainbow' \n",
       "11                                \"Bouncin' In Rhythm\" \n",
       "12    'Where Is the Conscience of the World (Adventu...\n",
       "13                                        'Spaced Out' \n",
       "14                              '003-The Glass Forest' \n",
       "15                      'Travel (live) (amparo fugaz)' \n",
       "16      'Wat had je dan (feat. Moorder E) (El Patron)' \n",
       "17                                            'Anomia' \n",
       "18                          Randy Wachtler - Shuffled' \n",
       "19                     'Cosima De Vito - Cost Of Love' \n",
       "20                              'Damien Rice - Eskimo' \n",
       "21    'Without Love (There Is Nothing) (Reloaded: Gr...\n",
       "22                              'Aria: Ach, mein Sinn' \n",
       "23                      'The Anthem Medley (club mix)' \n",
       "24                                       'On the Bank' \n",
       "25                              'Queen - My Fair King' \n",
       "26                                  'Death Approaches' \n",
       "27                    'Jonny Victory - Under The City' \n",
       "28                                'Jukebox in My Mind' \n",
       "29                                           'Not Yet' \n",
       "Name: Record1, dtype: object"
      ]
     },
     "execution_count": 13,
     "metadata": {},
     "output_type": "execute_result"
    }
   ],
   "source": [
    "pair_wise_in[\"Record1\"]"
   ]
  },
  {
   "cell_type": "code",
   "execution_count": 14,
   "metadata": {},
   "outputs": [],
   "source": [
    "output_labels=pair_wise_out[\"Answer.one-out.label\"].values"
   ]
  },
  {
   "cell_type": "code",
   "execution_count": 15,
   "metadata": {},
   "outputs": [
    {
     "data": {
      "text/plain": [
       "array([nan, nan, nan, nan, nan, nan, nan, 'Item 1', 'Item 2', 'Item 2',\n",
       "       'Item 2', 'Item 2', 'Item 2', 'Item 2', 'Item 3', 'Item 1',\n",
       "       'Item 3', 'Item 3', 'Item 3', 'Item 3', 'Item 3', 'Item 4',\n",
       "       'Item 4', nan, 'Item 4', 'Item 4', 'Item 4', 'Item 4', 'Item 4',\n",
       "       'Item 4', nan, 'Item 1', nan, nan, nan, 'Item 3', 'Item 3',\n",
       "       'Item 4', 'Item 3', 'Item 3', 'Item 3', 'Item 3', 'Item 2',\n",
       "       'Item 2', 'Item 2', 'Item 2', 'Item 2', 'Item 2', 'Item 1', nan,\n",
       "       nan, nan, nan, nan, 'Item 4', nan, nan, nan, 'Item 2', nan, nan,\n",
       "       nan, 'Item 3', 'Item 1', 'Item 1', 'Item 1', 'Item 3', 'Item 1',\n",
       "       'Item 1', 'Item 1', 'Item 2', 'Item 2', 'Item 2', 'Item 2',\n",
       "       'Item 2', 'Item 2', 'Item 2', 'Item 3', 'Item 4', 'Item 4',\n",
       "       'Item 4', 'Item 4', 'Item 4', 'Item 4', 'Item 4', nan, nan, nan,\n",
       "       'Item 4', nan, 'Item 1', 'Item 4', 'Item 4', 'Item 4', 'Item 4',\n",
       "       'Item 4', 'Item 4', nan, 'Item 4', nan, 'Item 4', 'Item 4',\n",
       "       'Item 4', 'Item 4', 'Item 4', 'Item 3', 'Item 4', nan, nan, nan,\n",
       "       nan, nan, 'Item 4', 'Item 4', 'Item 4', 'Item 4', 'Item 1',\n",
       "       'Item 4', 'Item 4', 'Item 1', 'Item 1', 'Item 1', 'Item 1',\n",
       "       'Item 1', 'Item 1', 'Item 1', nan, 'Item 2', nan, nan, nan, nan,\n",
       "       nan, 'Item 2', 'Item 2', 'Item 2', 'Item 2', 'Item 2', nan,\n",
       "       'Item 2', 'Item 1', 'Item 2', 'Item 1', 'Item 1', 'Item 1',\n",
       "       'Item 1', 'Item 1', nan, nan, nan, nan, nan, 'Item 2', nan,\n",
       "       'Item 2', 'Item 2', 'Item 2', 'Item 2', 'Item 2', 'Item 2',\n",
       "       'Item 2', 'Item 4', 'Item 4', 'Item 4', nan, 'Item 4', 'Item 4',\n",
       "       'Item 4', 'Item 3', 'Item 3', 'Item 3', 'Item 3', 'Item 3',\n",
       "       'Item 1', 'Item 3', 'Item 2', 'Item 2', 'Item 2', 'Item 2',\n",
       "       'Item 1', 'Item 2', 'Item 2', 'Item 4', 'Item 4', 'Item 4',\n",
       "       'Item 4', 'Item 4', 'Item 4', 'Item 4', 'Item 3', 'Item 3',\n",
       "       'Item 3', 'Item 3', 'Item 3', 'Item 3', 'Item 3', 'Item 1',\n",
       "       'Item 3', 'Item 3', 'Item 3', 'Item 3', 'Item 3', 'Item 3',\n",
       "       'Item 1', 'Item 1', 'Item 1', 'Item 1', 'Item 2', 'Item 1',\n",
       "       'Item 1'], dtype=object)"
      ]
     },
     "execution_count": 15,
     "metadata": {},
     "output_type": "execute_result"
    }
   ],
   "source": [
    "output_labels"
   ]
  },
  {
   "cell_type": "code",
   "execution_count": 16,
   "metadata": {},
   "outputs": [],
   "source": [
    "numeric_ol = []\n",
    "for i in output_labels:\n",
    "    if i==\"Item 1\":\n",
    "        numeric_ol.append(1)\n",
    "    elif i==\"Item 2\":\n",
    "        numeric_ol.append(2)\n",
    "    elif i==\"Item 3\":\n",
    "        numeric_ol.append(3)\n",
    "    elif i==\"Item 4\":\n",
    "        numeric_ol.append(4) \n",
    "    else:\n",
    "        numeric_ol.append(0)    "
   ]
  },
  {
   "cell_type": "code",
   "execution_count": 17,
   "metadata": {},
   "outputs": [],
   "source": [
    "no_of_workers= 7\n",
    "worker_labels=[]\n",
    "for i in range(0,len(numeric_ol),no_of_workers):\n",
    "    worker_labels.append(numeric_ol[i:i+no_of_workers])\n"
   ]
  },
  {
   "cell_type": "code",
   "execution_count": 18,
   "metadata": {},
   "outputs": [
    {
     "data": {
      "text/plain": [
       "[[0, 0, 0, 0, 0, 0, 0],\n",
       " [1, 2, 2, 2, 2, 2, 2],\n",
       " [3, 1, 3, 3, 3, 3, 3],\n",
       " [4, 4, 0, 4, 4, 4, 4],\n",
       " [4, 4, 0, 1, 0, 0, 0],\n",
       " [3, 3, 4, 3, 3, 3, 3],\n",
       " [2, 2, 2, 2, 2, 2, 1],\n",
       " [0, 0, 0, 0, 0, 4, 0],\n",
       " [0, 0, 2, 0, 0, 0, 3],\n",
       " [1, 1, 1, 3, 1, 1, 1],\n",
       " [2, 2, 2, 2, 2, 2, 2],\n",
       " [3, 4, 4, 4, 4, 4, 4],\n",
       " [4, 0, 0, 0, 4, 0, 1],\n",
       " [4, 4, 4, 4, 4, 4, 0],\n",
       " [4, 0, 4, 4, 4, 4, 4],\n",
       " [3, 4, 0, 0, 0, 0, 0],\n",
       " [4, 4, 4, 4, 1, 4, 4],\n",
       " [1, 1, 1, 1, 1, 1, 1],\n",
       " [0, 2, 0, 0, 0, 0, 0],\n",
       " [2, 2, 2, 2, 2, 0, 2],\n",
       " [1, 2, 1, 1, 1, 1, 1],\n",
       " [0, 0, 0, 0, 0, 2, 0],\n",
       " [2, 2, 2, 2, 2, 2, 2],\n",
       " [4, 4, 4, 0, 4, 4, 4],\n",
       " [3, 3, 3, 3, 3, 1, 3],\n",
       " [2, 2, 2, 2, 1, 2, 2],\n",
       " [4, 4, 4, 4, 4, 4, 4],\n",
       " [3, 3, 3, 3, 3, 3, 3],\n",
       " [1, 3, 3, 3, 3, 3, 3],\n",
       " [1, 1, 1, 1, 2, 1, 1]]"
      ]
     },
     "execution_count": 18,
     "metadata": {},
     "output_type": "execute_result"
    }
   ],
   "source": [
    "worker_labels"
   ]
  },
  {
   "cell_type": "code",
   "execution_count": 19,
   "metadata": {},
   "outputs": [],
   "source": [
    "# Majority voting with 7.\n",
    "single_label_7=[]\n",
    "for i in (worker_labels):\n",
    "    (single_label_7.append(pd.Series(i).value_counts().index[0]))\n",
    "    "
   ]
  },
  {
   "cell_type": "code",
   "execution_count": 20,
   "metadata": {},
   "outputs": [
    {
     "data": {
      "text/plain": [
       "[0,\n",
       " 2,\n",
       " 3,\n",
       " 4,\n",
       " 0,\n",
       " 3,\n",
       " 2,\n",
       " 0,\n",
       " 0,\n",
       " 1,\n",
       " 2,\n",
       " 4,\n",
       " 0,\n",
       " 4,\n",
       " 4,\n",
       " 0,\n",
       " 4,\n",
       " 1,\n",
       " 0,\n",
       " 2,\n",
       " 1,\n",
       " 0,\n",
       " 2,\n",
       " 4,\n",
       " 3,\n",
       " 2,\n",
       " 4,\n",
       " 3,\n",
       " 3,\n",
       " 1]"
      ]
     },
     "execution_count": 20,
     "metadata": {},
     "output_type": "execute_result"
    }
   ],
   "source": [
    "single_label_7"
   ]
  },
  {
   "cell_type": "code",
   "execution_count": 21,
   "metadata": {},
   "outputs": [],
   "source": [
    "import numpy as np"
   ]
  },
  {
   "cell_type": "code",
   "execution_count": 22,
   "metadata": {},
   "outputs": [],
   "source": [
    "from sklearn.metrics import precision_recall_fscore_support\n",
    "from sklearn.metrics import confusion_matrix\n",
    "from sklearn.metrics import multilabel_confusion_matrix"
   ]
  },
  {
   "cell_type": "code",
   "execution_count": 24,
   "metadata": {},
   "outputs": [
    {
     "data": {
      "text/plain": [
       "(1.0, 1.0, 1.0, None)"
      ]
     },
     "execution_count": 24,
     "metadata": {},
     "output_type": "execute_result"
    }
   ],
   "source": [
    "#precision, recall, f_score.\n",
    "precision_recall_fscore_support(true_labels, single_label_7, average='macro')"
   ]
  },
  {
   "cell_type": "markdown",
   "metadata": {},
   "source": [
    "precision_recall curve is not possible as no probabilities are involved in the sense that majority voting is used to determine labels and not a classifier for which the threshold can be varied!^<<..>>./\\../\\. "
   ]
  },
  {
   "cell_type": "code",
   "execution_count": 26,
   "metadata": {},
   "outputs": [
    {
     "data": {
      "text/plain": [
       "array([[[22,  0],\n",
       "        [ 0,  8]],\n",
       "\n",
       "       [[26,  0],\n",
       "        [ 0,  4]],\n",
       "\n",
       "       [[24,  0],\n",
       "        [ 0,  6]],\n",
       "\n",
       "       [[25,  0],\n",
       "        [ 0,  5]],\n",
       "\n",
       "       [[23,  0],\n",
       "        [ 0,  7]]], dtype=int64)"
      ]
     },
     "execution_count": 26,
     "metadata": {},
     "output_type": "execute_result"
    }
   ],
   "source": [
    "multilabel_confusion_matrix(true_labels, single_label_7)# its the same for 5 workers here. \n",
    "#Nothing really to see here all True positives and True negatives are correctly identified for all different options basically..."
   ]
  },
  {
   "cell_type": "code",
   "execution_count": null,
   "metadata": {},
   "outputs": [],
   "source": []
  }
 ],
 "metadata": {
  "kernelspec": {
   "display_name": "Python 3",
   "language": "python",
   "name": "python3"
  },
  "language_info": {
   "codemirror_mode": {
    "name": "ipython",
    "version": 3
   },
   "file_extension": ".py",
   "mimetype": "text/x-python",
   "name": "python",
   "nbconvert_exporter": "python",
   "pygments_lexer": "ipython3",
   "version": "3.7.3"
  }
 },
 "nbformat": 4,
 "nbformat_minor": 2
}
