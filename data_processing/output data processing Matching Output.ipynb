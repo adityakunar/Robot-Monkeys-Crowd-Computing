{
 "cells": [
  {
   "cell_type": "code",
   "execution_count": 9,
   "metadata": {},
   "outputs": [],
   "source": [
    "import pandas as pd"
   ]
  },
  {
   "cell_type": "code",
   "execution_count": 10,
   "metadata": {},
   "outputs": [],
   "source": [
    "pair_wise_out = pd.read_csv(\"Output/Matching Batch.csv\") \n",
    "pair_wise_in = pd.read_csv(\"Input/Matching_HIT.csv\")"
   ]
  },
  {
   "cell_type": "code",
   "execution_count": 11,
   "metadata": {},
   "outputs": [
    {
     "data": {
      "text/plain": [
       "0      Case Logic 15.6-Inch Laptop and iPad Slim Case...\n",
       "1      Case Logic 15.6-Inch Laptop and iPad Slim Case...\n",
       "2      Case Logic 15.6-Inch Laptop and iPad Slim Case...\n",
       "3      Case Logic 15.6-Inch Laptop and iPad Slim Case...\n",
       "4      Case Logic 15.6-Inch Laptop and iPad Slim Case...\n",
       "                             ...                        \n",
       "135    Case Logic VLS-114 13-Inch, 14-Inch Laptop Sle...\n",
       "136    Case Logic VLS-114 13-Inch, 14-Inch Laptop Sle...\n",
       "137    Case Logic VLS-114 13-Inch, 14-Inch Laptop Sle...\n",
       "138    Case Logic VLS-114 13-Inch, 14-Inch Laptop Sle...\n",
       "139    Case Logic VLS-114 13-Inch, 14-Inch Laptop Sle...\n",
       "Name: Input.C0, Length: 140, dtype: object"
      ]
     },
     "execution_count": 11,
     "metadata": {},
     "output_type": "execute_result"
    }
   ],
   "source": [
    "pair_wise_out[\"Input.C0\"]"
   ]
  },
  {
   "cell_type": "code",
   "execution_count": 12,
   "metadata": {},
   "outputs": [
    {
     "data": {
      "text/plain": [
       "NIID - Decode Laptop Tote                                                                                                                                                          7\n",
       "Lenovo ThinkPad E550 15.6 Inch  i3-4005U 8GB 500GB SSD Windows 7 Pro Student Notebook Computer                                                                                     7\n",
       "Kensington 11-Inch Laptop Chromebook Sleeve (K62609WW)                                                                                                                             7\n",
       "2015 Newest Edition Dell Inspiron 17 5000 Series 17.3 Inch Laptop with with Windows 7 Professional, 5th Generation Intel Core i3-5005U (3M Cache, 2 GHz), 4GB Memory, 500GB HDD    7\n",
       "Cooler Master NotePal U2 PLUS - Laptop Cooling Pad with 2 Movable High Performance Fans (Black)                                                                                    7\n",
       "TaylorHe 15.6 inch 15 inch Laptop Skin Vinyl Decal with Colorful Patterns and Leather Effect Laminate MADE IN BRITAIN Vintage Paisley Patterns                                     7\n",
       "Sendt Blue Notebook / Laptop Combination Lock Security Cable                                                                                                                       7\n",
       "OGIO Renegade Laptop Briefcase                                                                                                                                                     7\n",
       "Electricking Replacement Laptop AC Adapter Power Supply Charger                                                                                                                    7\n",
       "Case Logic LAPS-114 14-Inch Laptop Sleeve (Black)                                                                                                                                  7\n",
       "Case Logic Berkeley Plus BPCA-115 15-Inch Laptop Backpack (Anthracite)                                                                                                             7\n",
       "HP Pavilion 17-g120nr 17.3-Inch Laptop                                                                                                                                             7\n",
       "Case Logic 15.6-Inch Laptop and iPad Slim Case (AUA-316ANTH)                                                                                                                       7\n",
       "Solo Pro 17.3 Inch  Laptop Backpack , Black, PRO742-4                                                                                                                              7\n",
       "Dell Latitude E5500 Laptop Computer - Core 2 Duo 2.0GHz - 2GB DDR2 - 120GB - DVDRW - Windows 7 Pro 64bit - (Certified Refurbished)                                                 7\n",
       "Case Logic PLS-13 Neoprene 13.3-Inch Neoprene Laptop Sleeve (Black)                                                                                                                7\n",
       "HP Pavilion 17-g140nr 17.3-Inch Laptop                                                                                                                                             7\n",
       "Newest Dell Inspiron 14 Inch Laptop with Intel Pentium N3540 Processor up to 2.66 GHz, 4GB DDR3 RAM, 500 GB Hard Drive, No DVD/CD Drive, Windows 8.1 (Certified Refurbished)       7\n",
       "Case Logic VLS-114 13-Inch, 14-Inch Laptop Sleeve (Black)                                                                                                                          7\n",
       "Dell Latitude D820 Laptop Notebook - Core Duo 1.6GHz - 2GB DDR2 - 60GB - DVD+CDRW - Windows 8.1 32bit - (Certified Refurbished)                                                    7\n",
       "Name: Input.C0, dtype: int64"
      ]
     },
     "execution_count": 12,
     "metadata": {},
     "output_type": "execute_result"
    }
   ],
   "source": [
    "(pair_wise_out[\"Input.C0\"].value_counts())"
   ]
  },
  {
   "cell_type": "code",
   "execution_count": 15,
   "metadata": {},
   "outputs": [],
   "source": [
    "true_labels=[]\n",
    "rows=list(pair_wise_out[\"Input.C0\"].value_counts().index)\n",
    "for i in rows:\n",
    "    df=pair_wise_in.loc[pair_wise_in[\"C0\"]==i]\n",
    "    true_labels.append(df[\"Labels\"].values[0])"
   ]
  },
  {
   "cell_type": "code",
   "execution_count": 16,
   "metadata": {},
   "outputs": [
    {
     "data": {
      "text/plain": [
       "['[(0, 9), (1, 8), (2, 5)]',\n",
       " '[(2, 8)]',\n",
       " '[]',\n",
       " '[(1, 5), (2, 8), (3, 6)]',\n",
       " '[(1, 8), (2, 5), (4, 9)]',\n",
       " '[(1, 7), (2, 5)]',\n",
       " '[(0, 5), (1, 8), (2, 9)]',\n",
       " '[(0, 9), (1, 5), (3, 8)]',\n",
       " '[(0, 5), (1, 8), (4, 9)]',\n",
       " '[(0, 7), (1, 6), (3, 8)]',\n",
       " '[(2, 6)]',\n",
       " '[(2, 7), (3, 9), (4, 6)]',\n",
       " '[(0, 7), (1, 6), (4, 8)]',\n",
       " '[(0, 7), (1, 8), (2, 9), (3, 5)]',\n",
       " '[(1, 7), (2, 8), (3, 9)]',\n",
       " '[(0, 5), (1, 9), (2, 6), (4, 7)]',\n",
       " '[(3, 6)]',\n",
       " '[(1, 9), (2, 5)]',\n",
       " '[(0, 8), (1, 7), (2, 5)]',\n",
       " '[(3, 7), (4, 6)]']"
      ]
     },
     "execution_count": 16,
     "metadata": {},
     "output_type": "execute_result"
    }
   ],
   "source": [
    "true_labels"
   ]
  },
  {
   "cell_type": "code",
   "execution_count": 52,
   "metadata": {},
   "outputs": [],
   "source": [
    "true_labels =[[(0, 9), (1, 8), (2, 5)],\n",
    " [(2, 8)],\n",
    " [],\n",
    " [(1, 5), (2, 8), (3, 6)],\n",
    " [(1, 8), (2, 5), (4, 9)],\n",
    " [(1, 7), (2, 5)],\n",
    " [(0, 5), (1, 8), (2, 9)],\n",
    " [(0, 9), (1, 5), (3, 8)],\n",
    " [(0, 5), (1, 8), (4, 9)],\n",
    " [(0, 7), (1, 6), (3, 8)],\n",
    " [(2, 6)],\n",
    " [(2, 7), (3, 9), (4, 6)],\n",
    " [(0, 7), (1, 6), (4, 8)],\n",
    " [(0, 7), (1, 8), (2, 9), (3, 5)],\n",
    " [(1, 7), (2, 8), (3, 9)],\n",
    " [(0, 5), (1, 9), (2, 6), (4, 7)],\n",
    " [(3, 6)],\n",
    " [(1, 9), (2, 5)],\n",
    " [(0, 8), (1, 7), (2, 5)],\n",
    " [(3, 7), (4, 6)]]"
   ]
  },
  {
   "cell_type": "code",
   "execution_count": 19,
   "metadata": {},
   "outputs": [],
   "source": [
    "worker_outputs=[]\n",
    "for i in rows:\n",
    "    df=pair_wise_out.loc[pair_wise_out[\"Input.C0\"]==i]\n",
    "    outputs = [[i,j,m,n,l] for i,j,m,n,l in zip(df[\"Answer.item0\"],df[\"Answer.item1\"],df[\"Answer.item2\"],df[\"Answer.item3\"],df[\"Answer.item4\"])]\n",
    "    worker_outputs.append(outputs)"
   ]
  },
  {
   "cell_type": "code",
   "execution_count": 25,
   "metadata": {},
   "outputs": [
    {
     "data": {
      "text/plain": [
       "7"
      ]
     },
     "execution_count": 25,
     "metadata": {},
     "output_type": "execute_result"
    }
   ],
   "source": [
    "len(worker_outputs[3])"
   ]
  },
  {
   "cell_type": "code",
   "execution_count": 27,
   "metadata": {},
   "outputs": [],
   "source": [
    "worker_labels=worker_outputs"
   ]
  },
  {
   "cell_type": "code",
   "execution_count": 28,
   "metadata": {},
   "outputs": [
    {
     "data": {
      "text/plain": [
       "array([['None', 'None', '1', 'None', 'None'],\n",
       "       ['None', 'None', 'None', 'None', 'None'],\n",
       "       ['2', '3', '1', '4', '5'],\n",
       "       ['None', 'None', 'None', 'None', 'None'],\n",
       "       ['5', 'None', '1', 'None', 'None'],\n",
       "       ['5', '3', '1', '4', '2'],\n",
       "       ['None', 'None', 'None', 'None', 'None']], dtype='<U4')"
      ]
     },
     "execution_count": 28,
     "metadata": {},
     "output_type": "execute_result"
    }
   ],
   "source": [
    "import numpy as np\n",
    "np.array(worker_labels[0])"
   ]
  },
  {
   "cell_type": "code",
   "execution_count": 29,
   "metadata": {},
   "outputs": [
    {
     "data": {
      "text/plain": [
       "'None'"
      ]
     },
     "execution_count": 29,
     "metadata": {},
     "output_type": "execute_result"
    }
   ],
   "source": [
    "pd.Series(np.array(worker_labels[1])[:,0]).value_counts().index[0]"
   ]
  },
  {
   "cell_type": "code",
   "execution_count": 30,
   "metadata": {},
   "outputs": [],
   "source": [
    "# Majority voting with 7.\n",
    "single_label_7=[]\n",
    "for i in (worker_labels):\n",
    "    single_label=[]\n",
    "    mat=np.array(i)\n",
    "    for k in range(mat.shape[1]):\n",
    "        f=mat[:,k]\n",
    "        single_label.append(pd.Series(f).value_counts().index[0])\n",
    "    single_label_7.append(single_label)\n",
    "    "
   ]
  },
  {
   "cell_type": "code",
   "execution_count": 33,
   "metadata": {},
   "outputs": [
    {
     "data": {
      "text/plain": [
       "[['None', 'None', '1', 'None', 'None'],\n",
       " ['None', 'None', 'None', 'None', 'None'],\n",
       " ['None', 'None', 'None', 'None', 'None'],\n",
       " ['None', 'None', 'None', 'None', 'None'],\n",
       " ['None', '4', '1', 'None', 'None'],\n",
       " ['None', '3', 'None', 'None', 'None'],\n",
       " ['None', 'None', 'None', 'None', 'None'],\n",
       " ['None', '1', 'None', '4', 'None'],\n",
       " ['None', '4', 'None', 'None', '5'],\n",
       " ['3', 'None', 'None', '4', 'None'],\n",
       " ['None', 'None', 'None', 'None', 'None'],\n",
       " ['None', 'None', 'None', 'None', 'None'],\n",
       " ['None', '2', '1', 'None', 'None'],\n",
       " ['None', 'None', 'None', 'None', 'None'],\n",
       " ['None', '3', 'None', 'None', 'None'],\n",
       " ['None', 'None', 'None', 'None', 'None'],\n",
       " ['None', 'None', 'None', 'None', 'None'],\n",
       " ['None', 'None', '1', 'None', 'None'],\n",
       " ['None', 'None', 'None', 'None', 'None'],\n",
       " ['None', 'None', 'None', 'None', 'None']]"
      ]
     },
     "execution_count": 33,
     "metadata": {},
     "output_type": "execute_result"
    }
   ],
   "source": [
    "(single_label_7)"
   ]
  },
  {
   "cell_type": "code",
   "execution_count": 34,
   "metadata": {},
   "outputs": [
    {
     "data": {
      "text/plain": [
       "['None', 'None', '1', 'None', 'None']"
      ]
     },
     "execution_count": 34,
     "metadata": {},
     "output_type": "execute_result"
    }
   ],
   "source": [
    "single_label_7[0]"
   ]
  },
  {
   "cell_type": "code",
   "execution_count": 35,
   "metadata": {},
   "outputs": [],
   "source": [
    "converted_labels=[]\n",
    "for i in single_label_7:\n",
    "    single_label_c=[]\n",
    "    for k in enumerate(i):\n",
    "        if k[1]!=\"None\":\n",
    "            single_label_c.append((k[0],4+int(k[1])))\n",
    "    converted_labels.append(single_label_c)"
   ]
  },
  {
   "cell_type": "code",
   "execution_count": 37,
   "metadata": {},
   "outputs": [
    {
     "data": {
      "text/plain": [
       "[[(2, 5)],\n",
       " [],\n",
       " [],\n",
       " [],\n",
       " [(1, 8), (2, 5)],\n",
       " [(1, 7)],\n",
       " [],\n",
       " [(1, 5), (3, 8)],\n",
       " [(1, 8), (4, 9)],\n",
       " [(0, 7), (3, 8)],\n",
       " [],\n",
       " [],\n",
       " [(1, 6), (2, 5)],\n",
       " [],\n",
       " [(1, 7)],\n",
       " [],\n",
       " [],\n",
       " [(2, 5)],\n",
       " [],\n",
       " []]"
      ]
     },
     "execution_count": 37,
     "metadata": {},
     "output_type": "execute_result"
    }
   ],
   "source": [
    "converted_labels"
   ]
  },
  {
   "cell_type": "code",
   "execution_count": 58,
   "metadata": {},
   "outputs": [
    {
     "name": "stdout",
     "output_type": "stream",
     "text": [
      "TP,FP,TN,FN are as follows for this question.\n",
      "[1, 0, 21, 3]\n",
      "TP,FP,TN,FN are as follows for this question.\n",
      "[0, 0, 24, 1]\n",
      "TP,FP,TN,FN are as follows for this question.\n",
      "[0, 0, 25, 0]\n",
      "TP,FP,TN,FN are as follows for this question.\n",
      "[0, 0, 22, 3]\n",
      "TP,FP,TN,FN are as follows for this question.\n",
      "[2, 0, 20, 3]\n",
      "TP,FP,TN,FN are as follows for this question.\n",
      "[1, 0, 22, 2]\n",
      "TP,FP,TN,FN are as follows for this question.\n",
      "[0, 0, 22, 3]\n",
      "TP,FP,TN,FN are as follows for this question.\n",
      "[2, 0, 20, 3]\n",
      "TP,FP,TN,FN are as follows for this question.\n",
      "[2, 0, 20, 3]\n",
      "TP,FP,TN,FN are as follows for this question.\n",
      "[2, 0, 20, 3]\n",
      "TP,FP,TN,FN are as follows for this question.\n",
      "[0, 0, 24, 1]\n",
      "TP,FP,TN,FN are as follows for this question.\n",
      "[0, 0, 22, 3]\n",
      "TP,FP,TN,FN are as follows for this question.\n",
      "[1, 1, 20, 3]\n",
      "TP,FP,TN,FN are as follows for this question.\n",
      "[0, 0, 21, 4]\n",
      "TP,FP,TN,FN are as follows for this question.\n",
      "[1, 0, 21, 3]\n",
      "TP,FP,TN,FN are as follows for this question.\n",
      "[0, 0, 21, 4]\n",
      "TP,FP,TN,FN are as follows for this question.\n",
      "[0, 0, 24, 1]\n",
      "TP,FP,TN,FN are as follows for this question.\n",
      "[1, 0, 22, 2]\n",
      "TP,FP,TN,FN are as follows for this question.\n",
      "[0, 0, 22, 3]\n",
      "TP,FP,TN,FN are as follows for this question.\n",
      "[0, 0, 23, 2]\n"
     ]
    }
   ],
   "source": [
    "allposs=[]\n",
    "for i in range(5):\n",
    "    for j in range(5,10):\n",
    "        allposs.append((i,j))\n",
    "cms=[]\n",
    "precs=[]\n",
    "recs=[]\n",
    "for i,j in zip(true_labels,converted_labels):\n",
    "    TP= len(i)-len(set(i)-set(j))\n",
    "    FP= len(set(j)-set(i))\n",
    "    TN= -1*((len(set(allposs)))-(len(set(allposs)-set(i)))-len(set(allposs)-set(j)))\n",
    "    FN= len(allposs)-TP-FP-TN\n",
    "    print(\"TP,FP,TN,FN are as follows for this question.\")\n",
    "    cm=[TP,FP,TN,FN]\n",
    "    cms.append(cm)\n",
    "    print(cm)\n",
    "    "
   ]
  },
  {
   "cell_type": "code",
   "execution_count": 59,
   "metadata": {},
   "outputs": [],
   "source": [
    "FinalCM=np.array(cms).mean(axis=0)"
   ]
  },
  {
   "cell_type": "code",
   "execution_count": 60,
   "metadata": {},
   "outputs": [],
   "source": [
    "Precision = FinalCM[0]/(FinalCM[0]+FinalCM[1])"
   ]
  },
  {
   "cell_type": "code",
   "execution_count": 61,
   "metadata": {},
   "outputs": [],
   "source": [
    "Recall = FinalCM[0]/(FinalCM[0]+FinalCM[3])"
   ]
  },
  {
   "cell_type": "code",
   "execution_count": 62,
   "metadata": {},
   "outputs": [
    {
     "data": {
      "text/plain": [
       "0.9285714285714285"
      ]
     },
     "execution_count": 62,
     "metadata": {},
     "output_type": "execute_result"
    }
   ],
   "source": [
    "Precision"
   ]
  },
  {
   "cell_type": "code",
   "execution_count": 63,
   "metadata": {},
   "outputs": [
    {
     "data": {
      "text/plain": [
       "0.20634920634920637"
      ]
     },
     "execution_count": 63,
     "metadata": {},
     "output_type": "execute_result"
    }
   ],
   "source": [
    "Recall"
   ]
  },
  {
   "cell_type": "code",
   "execution_count": 64,
   "metadata": {},
   "outputs": [],
   "source": [
    "F1_score = (2 * Precision * Recall) / (Precision + Recall)"
   ]
  },
  {
   "cell_type": "code",
   "execution_count": 65,
   "metadata": {},
   "outputs": [
    {
     "data": {
      "text/plain": [
       "0.33766233766233766"
      ]
     },
     "execution_count": 65,
     "metadata": {},
     "output_type": "execute_result"
    }
   ],
   "source": [
    "F1_score"
   ]
  },
  {
   "cell_type": "code",
   "execution_count": null,
   "metadata": {},
   "outputs": [],
   "source": []
  }
 ],
 "metadata": {
  "kernelspec": {
   "display_name": "Python 3",
   "language": "python",
   "name": "python3"
  },
  "language_info": {
   "codemirror_mode": {
    "name": "ipython",
    "version": 3
   },
   "file_extension": ".py",
   "mimetype": "text/x-python",
   "name": "python",
   "nbconvert_exporter": "python",
   "pygments_lexer": "ipython3",
   "version": "3.7.3"
  }
 },
 "nbformat": 4,
 "nbformat_minor": 2
}
