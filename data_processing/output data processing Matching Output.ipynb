{
 "cells": [
  {
   "cell_type": "code",
   "execution_count": 52,
   "metadata": {},
   "outputs": [],
   "source": [
    "import pandas as pd"
   ]
  },
  {
   "cell_type": "code",
   "execution_count": 53,
   "metadata": {},
   "outputs": [],
   "source": [
    "honeypot = True\n",
    "\n",
    "pair_wise_out = pd.read_csv(\"../datasets/Matching Batch 1.csv\") \n",
    "pair_wise_in = pd.read_csv(\"../datasets/Matching_HIT.csv\")"
   ]
  },
  {
   "cell_type": "code",
   "execution_count": 54,
   "metadata": {},
   "outputs": [
    {
     "name": "stdout",
     "output_type": "stream",
     "text": [
      "Droppin some users\n"
     ]
    }
   ],
   "source": [
    "if honeypot:\n",
    "    print(\"Droppin some users\")\n",
    "    pair_wise_out = pair_wise_out[pair_wise_out[\"WorkerId\"] != \"A3CDL9X2B4QWOB\"]\n",
    "    pair_wise_out = pair_wise_out[pair_wise_out[\"WorkerId\"] != \"A373U4XYXC178J\"]    \n",
    "    pair_wise_out = pair_wise_out[pair_wise_out[\"WorkerId\"] != \"A22B5CLRFQ9EUX\"]    \n",
    "    pair_wise_out = pair_wise_out[pair_wise_out[\"WorkerId\"] != \"A2236R33CMX70Q\"]  \n",
    "    "
   ]
  },
  {
   "cell_type": "code",
   "execution_count": 55,
   "metadata": {},
   "outputs": [
    {
     "data": {
      "text/plain": [
       "1      Case Logic 15.6-Inch Laptop and iPad Slim Case...\n",
       "2      Case Logic 15.6-Inch Laptop and iPad Slim Case...\n",
       "3      Case Logic 15.6-Inch Laptop and iPad Slim Case...\n",
       "8      2015 Newest Edition Dell Inspiron 17 5000 Seri...\n",
       "9      2015 Newest Edition Dell Inspiron 17 5000 Seri...\n",
       "                             ...                        \n",
       "129    Lenovo ThinkPad E550 15.6 Inch  i3-4005U 8GB 5...\n",
       "132    Lenovo ThinkPad E550 15.6 Inch  i3-4005U 8GB 5...\n",
       "133    Case Logic VLS-114 13-Inch, 14-Inch Laptop Sle...\n",
       "134    Case Logic VLS-114 13-Inch, 14-Inch Laptop Sle...\n",
       "137    Case Logic VLS-114 13-Inch, 14-Inch Laptop Sle...\n",
       "Name: Input.C0, Length: 63, dtype: object"
      ]
     },
     "execution_count": 55,
     "metadata": {},
     "output_type": "execute_result"
    }
   ],
   "source": [
    "pair_wise_out[\"Input.C0\"]"
   ]
  },
  {
   "cell_type": "code",
   "execution_count": 56,
   "metadata": {},
   "outputs": [
    {
     "data": {
      "text/plain": [
       "HP Pavilion 17-g140nr 17.3-Inch Laptop                                                                                                                                             4\n",
       "Newest Dell Inspiron 14 Inch Laptop with Intel Pentium N3540 Processor up to 2.66 GHz, 4GB DDR3 RAM, 500 GB Hard Drive, No DVD/CD Drive, Windows 8.1 (Certified Refurbished)       4\n",
       "Case Logic LAPS-114 14-Inch Laptop Sleeve (Black)                                                                                                                                  4\n",
       "Case Logic VLS-114 13-Inch, 14-Inch Laptop Sleeve (Black)                                                                                                                          3\n",
       "Kensington 11-Inch Laptop Chromebook Sleeve (K62609WW)                                                                                                                             3\n",
       "Dell Latitude D820 Laptop Notebook - Core Duo 1.6GHz - 2GB DDR2 - 60GB - DVD+CDRW - Windows 8.1 32bit - (Certified Refurbished)                                                    3\n",
       "OGIO Renegade Laptop Briefcase                                                                                                                                                     3\n",
       "Case Logic PLS-13 Neoprene 13.3-Inch Neoprene Laptop Sleeve (Black)                                                                                                                3\n",
       "Case Logic 15.6-Inch Laptop and iPad Slim Case (AUA-316ANTH)                                                                                                                       3\n",
       "Lenovo ThinkPad E550 15.6 Inch  i3-4005U 8GB 500GB SSD Windows 7 Pro Student Notebook Computer                                                                                     3\n",
       "Dell Latitude E5500 Laptop Computer - Core 2 Duo 2.0GHz - 2GB DDR2 - 120GB - DVDRW - Windows 7 Pro 64bit - (Certified Refurbished)                                                 3\n",
       "Case Logic Berkeley Plus BPCA-115 15-Inch Laptop Backpack (Anthracite)                                                                                                             3\n",
       "Cooler Master NotePal U2 PLUS - Laptop Cooling Pad with 2 Movable High Performance Fans (Black)                                                                                    3\n",
       "Electricking Replacement Laptop AC Adapter Power Supply Charger                                                                                                                    3\n",
       "TaylorHe 15.6 inch 15 inch Laptop Skin Vinyl Decal with Colorful Patterns and Leather Effect Laminate MADE IN BRITAIN Vintage Paisley Patterns                                     3\n",
       "NIID - Decode Laptop Tote                                                                                                                                                          3\n",
       "HP Pavilion 17-g120nr 17.3-Inch Laptop                                                                                                                                             3\n",
       "Sendt Blue Notebook / Laptop Combination Lock Security Cable                                                                                                                       3\n",
       "2015 Newest Edition Dell Inspiron 17 5000 Series 17.3 Inch Laptop with with Windows 7 Professional, 5th Generation Intel Core i3-5005U (3M Cache, 2 GHz), 4GB Memory, 500GB HDD    3\n",
       "Solo Pro 17.3 Inch  Laptop Backpack , Black, PRO742-4                                                                                                                              3\n",
       "Name: Input.C0, dtype: int64"
      ]
     },
     "execution_count": 56,
     "metadata": {},
     "output_type": "execute_result"
    }
   ],
   "source": [
    "(pair_wise_out[\"Input.C0\"].value_counts())"
   ]
  },
  {
   "cell_type": "code",
   "execution_count": 57,
   "metadata": {},
   "outputs": [
    {
     "name": "stdout",
     "output_type": "stream",
     "text": [
      "['HP Pavilion 17-g140nr 17.3-Inch Laptop', 'Newest Dell Inspiron 14 Inch Laptop with Intel Pentium N3540 Processor up to 2.66 GHz, 4GB DDR3 RAM, 500 GB Hard Drive, No DVD/CD Drive, Windows 8.1 (Certified Refurbished)', 'Case Logic LAPS-114 14-Inch Laptop Sleeve (Black)', 'Case Logic VLS-114 13-Inch, 14-Inch Laptop Sleeve (Black)', 'Kensington 11-Inch Laptop Chromebook Sleeve (K62609WW)', 'Dell Latitude D820 Laptop Notebook - Core Duo 1.6GHz - 2GB DDR2 - 60GB - DVD+CDRW - Windows 8.1 32bit - (Certified Refurbished)', 'OGIO Renegade Laptop Briefcase', 'Case Logic PLS-13 Neoprene 13.3-Inch Neoprene Laptop Sleeve (Black)', 'Case Logic 15.6-Inch Laptop and iPad Slim Case (AUA-316ANTH)', 'Lenovo ThinkPad E550 15.6 Inch  i3-4005U 8GB 500GB SSD Windows 7 Pro Student Notebook Computer', 'Dell Latitude E5500 Laptop Computer - Core 2 Duo 2.0GHz - 2GB DDR2 - 120GB - DVDRW - Windows 7 Pro 64bit - (Certified Refurbished)', 'Case Logic Berkeley Plus BPCA-115 15-Inch Laptop Backpack (Anthracite)', 'Cooler Master NotePal U2 PLUS - Laptop Cooling Pad with 2 Movable High Performance Fans (Black)', 'Electricking Replacement Laptop AC Adapter Power Supply Charger', 'TaylorHe 15.6 inch 15 inch Laptop Skin Vinyl Decal with Colorful Patterns and Leather Effect Laminate MADE IN BRITAIN Vintage Paisley Patterns', 'NIID - Decode Laptop Tote', 'HP Pavilion 17-g120nr 17.3-Inch Laptop', 'Sendt Blue Notebook / Laptop Combination Lock Security Cable', '2015 Newest Edition Dell Inspiron 17 5000 Series 17.3 Inch Laptop with with Windows 7 Professional, 5th Generation Intel Core i3-5005U (3M Cache, 2 GHz), 4GB Memory, 500GB HDD', 'Solo Pro 17.3 Inch  Laptop Backpack , Black, PRO742-4']\n"
     ]
    }
   ],
   "source": [
    "true_labels_strings=[]\n",
    "rows=list(pair_wise_out[\"Input.C0\"].value_counts().index)\n",
    "print(rows)\n",
    "for i in rows:\n",
    "    df=pair_wise_in.loc[pair_wise_in[\"C0\"]==i]\n",
    "#     print(list(df[\"Labels\"].values[0]))\n",
    "    true_labels_strings.append(df[\"Labels\"].values[0])"
   ]
  },
  {
   "cell_type": "code",
   "execution_count": 58,
   "metadata": {},
   "outputs": [
    {
     "data": {
      "text/plain": [
       "['[(3, 6)]',\n",
       " '[(1, 9), (2, 5)]',\n",
       " '[(0, 7), (1, 6), (3, 8)]',\n",
       " '[(0, 8), (1, 7), (2, 5)]',\n",
       " '[]',\n",
       " '[(3, 7), (4, 6)]',\n",
       " '[(0, 9), (1, 5), (3, 8)]',\n",
       " '[(0, 5), (1, 9), (2, 6), (4, 7)]',\n",
       " '[(0, 7), (1, 6), (4, 8)]',\n",
       " '[(2, 8)]',\n",
       " '[(1, 7), (2, 8), (3, 9)]',\n",
       " '[(2, 6)]',\n",
       " '[(1, 8), (2, 5), (4, 9)]',\n",
       " '[(0, 5), (1, 8), (4, 9)]',\n",
       " '[(1, 7), (2, 5)]',\n",
       " '[(0, 9), (1, 8), (2, 5)]',\n",
       " '[(2, 7), (3, 9), (4, 6)]',\n",
       " '[(0, 5), (1, 8), (2, 9)]',\n",
       " '[(1, 5), (2, 8), (3, 6)]',\n",
       " '[(0, 7), (1, 8), (2, 9), (3, 5)]']"
      ]
     },
     "execution_count": 58,
     "metadata": {},
     "output_type": "execute_result"
    }
   ],
   "source": [
    "true_labels_strings"
   ]
  },
  {
   "cell_type": "code",
   "execution_count": 59,
   "metadata": {},
   "outputs": [],
   "source": [
    "def getLabelsFromString(label_string: str, empty_list: list) -> list:  \n",
    "    \n",
    "    if '(' not in label_string:\n",
    "        return empty_list\n",
    "    \n",
    "    first_label = label_string.split('(')[1].split(')')[0]\n",
    "    rest = label_string.split(')', 1)[1]\n",
    "    \n",
    "#     print(rest)\n",
    "    \n",
    "    first_element = int(first_label.split(\",\")[0])\n",
    "    second_element = int(first_label.split(\",\")[1])\n",
    "    element = (first_element, second_element)\n",
    "    \n",
    "    empty_list.append(element)\n",
    "    \n",
    "    return getLabelsFromString(rest, empty_list)"
   ]
  },
  {
   "cell_type": "code",
   "execution_count": 60,
   "metadata": {},
   "outputs": [
    {
     "name": "stdout",
     "output_type": "stream",
     "text": [
      "[[(3, 6)], [(1, 9), (2, 5)], [(0, 7), (1, 6), (3, 8)], [(0, 8), (1, 7), (2, 5)], [], [(3, 7), (4, 6)], [(0, 9), (1, 5), (3, 8)], [(0, 5), (1, 9), (2, 6), (4, 7)], [(0, 7), (1, 6), (4, 8)], [(2, 8)], [(1, 7), (2, 8), (3, 9)], [(2, 6)], [(1, 8), (2, 5), (4, 9)], [(0, 5), (1, 8), (4, 9)], [(1, 7), (2, 5)], [(0, 9), (1, 8), (2, 5)], [(2, 7), (3, 9), (4, 6)], [(0, 5), (1, 8), (2, 9)], [(1, 5), (2, 8), (3, 6)], [(0, 7), (1, 8), (2, 9), (3, 5)]]\n"
     ]
    }
   ],
   "source": [
    "true_labels = []\n",
    "for string in true_labels_strings:\n",
    "    empty = []\n",
    "    true_labels.append(getLabelsFromString(string, empty))\n",
    "\n",
    "print(true_labels)"
   ]
  },
  {
   "cell_type": "code",
   "execution_count": 61,
   "metadata": {},
   "outputs": [],
   "source": [
    "worker_outputs=[]\n",
    "for i in rows:\n",
    "    df=pair_wise_out.loc[pair_wise_out[\"Input.C0\"]==i]\n",
    "    outputs = [[i,j,m,n,l] for i,j,m,n,l in zip(df[\"Answer.item0\"],df[\"Answer.item1\"],df[\"Answer.item2\"],df[\"Answer.item3\"],df[\"Answer.item4\"])]\n",
    "    worker_outputs.append(outputs)"
   ]
  },
  {
   "cell_type": "code",
   "execution_count": 62,
   "metadata": {},
   "outputs": [
    {
     "data": {
      "text/plain": [
       "3"
      ]
     },
     "execution_count": 62,
     "metadata": {},
     "output_type": "execute_result"
    }
   ],
   "source": [
    "len(worker_outputs[3])"
   ]
  },
  {
   "cell_type": "code",
   "execution_count": 63,
   "metadata": {},
   "outputs": [],
   "source": [
    "worker_labels=worker_outputs"
   ]
  },
  {
   "cell_type": "code",
   "execution_count": 64,
   "metadata": {},
   "outputs": [
    {
     "data": {
      "text/plain": [
       "array([['None', 'None', 'None', 'None', 'None'],\n",
       "       ['None', 'None', 'None', 'None', 'None'],\n",
       "       ['5', 'None', 'None', 'None', 'None'],\n",
       "       ['None', 'None', 'None', 'None', 'None']], dtype='<U4')"
      ]
     },
     "execution_count": 64,
     "metadata": {},
     "output_type": "execute_result"
    }
   ],
   "source": [
    "import numpy as np\n",
    "np.array(worker_labels[0])"
   ]
  },
  {
   "cell_type": "code",
   "execution_count": 65,
   "metadata": {},
   "outputs": [
    {
     "data": {
      "text/plain": [
       "'None'"
      ]
     },
     "execution_count": 65,
     "metadata": {},
     "output_type": "execute_result"
    }
   ],
   "source": [
    "pd.Series(np.array(worker_labels[1])[:,0]).value_counts().index[0]"
   ]
  },
  {
   "cell_type": "code",
   "execution_count": 66,
   "metadata": {},
   "outputs": [],
   "source": [
    "# Majority voting with 7.\n",
    "single_label_7=[]\n",
    "for i in (worker_labels):\n",
    "    single_label=[]\n",
    "    mat=np.array(i)\n",
    "    for k in range(mat.shape[1]):\n",
    "        f=mat[:,k]\n",
    "        single_label.append(pd.Series(f).value_counts().index[0])\n",
    "    single_label_7.append(single_label)\n",
    "    "
   ]
  },
  {
   "cell_type": "code",
   "execution_count": 67,
   "metadata": {},
   "outputs": [
    {
     "data": {
      "text/plain": [
       "[['None', 'None', 'None', 'None', 'None'],\n",
       " ['None', 'None', '1', 'None', 'None'],\n",
       " ['3', 'None', 'None', '4', 'None'],\n",
       " ['None', 'None', 'None', 'None', 'None'],\n",
       " ['None', 'None', 'None', 'None', 'None'],\n",
       " ['None', 'None', 'None', 'None', 'None'],\n",
       " ['None', '1', 'None', '4', 'None'],\n",
       " ['None', 'None', 'None', 'None', 'None'],\n",
       " ['3', '2', '1', 'None', 'None'],\n",
       " ['3', 'None', '4', 'None', 'None'],\n",
       " ['None', '3', 'None', 'None', 'None'],\n",
       " ['None', 'None', 'None', 'None', 'None'],\n",
       " ['None', 'None', '1', 'None', 'None'],\n",
       " ['1', '4', 'None', 'None', '5'],\n",
       " ['None', '3', 'None', 'None', 'None'],\n",
       " ['5', 'None', '1', 'None', 'None'],\n",
       " ['None', 'None', 'None', 'None', 'None'],\n",
       " ['None', 'None', 'None', 'None', 'None'],\n",
       " ['None', 'None', 'None', 'None', 'None'],\n",
       " ['3', '4', '5', '1', 'None']]"
      ]
     },
     "execution_count": 67,
     "metadata": {},
     "output_type": "execute_result"
    }
   ],
   "source": [
    "(single_label_7)"
   ]
  },
  {
   "cell_type": "code",
   "execution_count": 68,
   "metadata": {},
   "outputs": [
    {
     "data": {
      "text/plain": [
       "['None', 'None', 'None', 'None', 'None']"
      ]
     },
     "execution_count": 68,
     "metadata": {},
     "output_type": "execute_result"
    }
   ],
   "source": [
    "single_label_7[0]"
   ]
  },
  {
   "cell_type": "code",
   "execution_count": 69,
   "metadata": {},
   "outputs": [],
   "source": [
    "converted_labels=[]\n",
    "for i in single_label_7:\n",
    "    single_label_c=[]\n",
    "    for k in enumerate(i):\n",
    "        if k[1]!=\"None\":\n",
    "            single_label_c.append((k[0],4+int(k[1])))\n",
    "    converted_labels.append(single_label_c)"
   ]
  },
  {
   "cell_type": "code",
   "execution_count": 70,
   "metadata": {},
   "outputs": [
    {
     "data": {
      "text/plain": [
       "[[],\n",
       " [(2, 5)],\n",
       " [(0, 7), (3, 8)],\n",
       " [],\n",
       " [],\n",
       " [],\n",
       " [(1, 5), (3, 8)],\n",
       " [],\n",
       " [(0, 7), (1, 6), (2, 5)],\n",
       " [(0, 7), (2, 8)],\n",
       " [(1, 7)],\n",
       " [],\n",
       " [(2, 5)],\n",
       " [(0, 5), (1, 8), (4, 9)],\n",
       " [(1, 7)],\n",
       " [(0, 9), (2, 5)],\n",
       " [],\n",
       " [],\n",
       " [],\n",
       " [(0, 7), (1, 8), (2, 9), (3, 5)]]"
      ]
     },
     "execution_count": 70,
     "metadata": {},
     "output_type": "execute_result"
    }
   ],
   "source": [
    "converted_labels"
   ]
  },
  {
   "cell_type": "code",
   "execution_count": 71,
   "metadata": {},
   "outputs": [
    {
     "name": "stdout",
     "output_type": "stream",
     "text": [
      "TP,FP,TN,FN are as follows for this question.\n",
      "[(3, 6)]\n",
      "[]\n",
      "[0, 0, 24, 1]\n",
      "TP,FP,TN,FN are as follows for this question.\n",
      "[(1, 9), (2, 5)]\n",
      "[(2, 5)]\n",
      "[1, 0, 22, 2]\n",
      "TP,FP,TN,FN are as follows for this question.\n",
      "[(0, 7), (1, 6), (3, 8)]\n",
      "[(0, 7), (3, 8)]\n",
      "[2, 0, 20, 3]\n",
      "TP,FP,TN,FN are as follows for this question.\n",
      "[(0, 8), (1, 7), (2, 5)]\n",
      "[]\n",
      "[0, 0, 22, 3]\n",
      "TP,FP,TN,FN are as follows for this question.\n",
      "[]\n",
      "[]\n",
      "[0, 0, 25, 0]\n",
      "TP,FP,TN,FN are as follows for this question.\n",
      "[(3, 7), (4, 6)]\n",
      "[]\n",
      "[0, 0, 23, 2]\n",
      "TP,FP,TN,FN are as follows for this question.\n",
      "[(0, 9), (1, 5), (3, 8)]\n",
      "[(1, 5), (3, 8)]\n",
      "[2, 0, 20, 3]\n",
      "TP,FP,TN,FN are as follows for this question.\n",
      "[(0, 5), (1, 9), (2, 6), (4, 7)]\n",
      "[]\n",
      "[0, 0, 21, 4]\n",
      "TP,FP,TN,FN are as follows for this question.\n",
      "[(0, 7), (1, 6), (4, 8)]\n",
      "[(0, 7), (1, 6), (2, 5)]\n",
      "[2, 1, 19, 3]\n",
      "TP,FP,TN,FN are as follows for this question.\n",
      "[(2, 8)]\n",
      "[(0, 7), (2, 8)]\n",
      "[1, 1, 22, 1]\n",
      "TP,FP,TN,FN are as follows for this question.\n",
      "[(1, 7), (2, 8), (3, 9)]\n",
      "[(1, 7)]\n",
      "[1, 0, 21, 3]\n",
      "TP,FP,TN,FN are as follows for this question.\n",
      "[(2, 6)]\n",
      "[]\n",
      "[0, 0, 24, 1]\n",
      "TP,FP,TN,FN are as follows for this question.\n",
      "[(1, 8), (2, 5), (4, 9)]\n",
      "[(2, 5)]\n",
      "[1, 0, 21, 3]\n",
      "TP,FP,TN,FN are as follows for this question.\n",
      "[(0, 5), (1, 8), (4, 9)]\n",
      "[(0, 5), (1, 8), (4, 9)]\n",
      "[3, 0, 19, 3]\n",
      "TP,FP,TN,FN are as follows for this question.\n",
      "[(1, 7), (2, 5)]\n",
      "[(1, 7)]\n",
      "[1, 0, 22, 2]\n",
      "TP,FP,TN,FN are as follows for this question.\n",
      "[(0, 9), (1, 8), (2, 5)]\n",
      "[(0, 9), (2, 5)]\n",
      "[2, 0, 20, 3]\n",
      "TP,FP,TN,FN are as follows for this question.\n",
      "[(2, 7), (3, 9), (4, 6)]\n",
      "[]\n",
      "[0, 0, 22, 3]\n",
      "TP,FP,TN,FN are as follows for this question.\n",
      "[(0, 5), (1, 8), (2, 9)]\n",
      "[]\n",
      "[0, 0, 22, 3]\n",
      "TP,FP,TN,FN are as follows for this question.\n",
      "[(1, 5), (2, 8), (3, 6)]\n",
      "[]\n",
      "[0, 0, 22, 3]\n",
      "TP,FP,TN,FN are as follows for this question.\n",
      "[(0, 7), (1, 8), (2, 9), (3, 5)]\n",
      "[(0, 7), (1, 8), (2, 9), (3, 5)]\n",
      "[4, 0, 17, 4]\n"
     ]
    }
   ],
   "source": [
    "allposs=[]\n",
    "for i in range(5):\n",
    "    for j in range(5,10):\n",
    "        allposs.append((i,j))\n",
    "cms=[]\n",
    "precs=[]\n",
    "recs=[]\n",
    "for i,j in zip(true_labels,converted_labels):\n",
    "    TP= len(i)-len(set(i)-set(j))\n",
    "    FP= len(set(j)-set(i))\n",
    "    TN= -1*((len(set(allposs)))-(len(set(allposs)-set(i)))-len(set(allposs)-set(j)))\n",
    "    FN= len(allposs)-TP-FP-TN\n",
    "    print(\"TP,FP,TN,FN are as follows for this question.\")\n",
    "    print(i)\n",
    "    print(j)\n",
    "    cm=[TP,FP,TN,FN]\n",
    "    cms.append(cm)\n",
    "    print(cm)\n",
    "    "
   ]
  },
  {
   "cell_type": "code",
   "execution_count": 72,
   "metadata": {},
   "outputs": [
    {
     "name": "stdout",
     "output_type": "stream",
     "text": [
      "[ 1.   0.1 21.4  2.5]\n"
     ]
    }
   ],
   "source": [
    "FinalCM=np.array(cms).mean(axis=0)\n",
    "print(FinalCM)"
   ]
  },
  {
   "cell_type": "code",
   "execution_count": 73,
   "metadata": {},
   "outputs": [],
   "source": [
    "Precision = FinalCM[0]/(FinalCM[0]+FinalCM[1])"
   ]
  },
  {
   "cell_type": "code",
   "execution_count": 74,
   "metadata": {},
   "outputs": [],
   "source": [
    "Recall = FinalCM[0]/(FinalCM[0]+FinalCM[3])"
   ]
  },
  {
   "cell_type": "code",
   "execution_count": 75,
   "metadata": {},
   "outputs": [
    {
     "data": {
      "text/plain": [
       "0.9090909090909091"
      ]
     },
     "execution_count": 75,
     "metadata": {},
     "output_type": "execute_result"
    }
   ],
   "source": [
    "Precision"
   ]
  },
  {
   "cell_type": "code",
   "execution_count": 76,
   "metadata": {},
   "outputs": [
    {
     "data": {
      "text/plain": [
       "0.2857142857142857"
      ]
     },
     "execution_count": 76,
     "metadata": {},
     "output_type": "execute_result"
    }
   ],
   "source": [
    "Recall"
   ]
  },
  {
   "cell_type": "code",
   "execution_count": 77,
   "metadata": {},
   "outputs": [],
   "source": [
    "F1_score = (2 * Precision * Recall) / (Precision + Recall)"
   ]
  },
  {
   "cell_type": "code",
   "execution_count": 78,
   "metadata": {},
   "outputs": [
    {
     "data": {
      "text/plain": [
       "0.43478260869565216"
      ]
     },
     "execution_count": 78,
     "metadata": {},
     "output_type": "execute_result"
    }
   ],
   "source": [
    "F1_score"
   ]
  },
  {
   "cell_type": "markdown",
   "metadata": {},
   "source": [
    "## WITH NO HONEYPOT\n",
    "#### Precision: 0.929\n",
    "#### Recall: 0.206\n",
    "#### F1 score: 0.338"
   ]
  },
  {
   "cell_type": "markdown",
   "metadata": {},
   "source": [
    "## WITH HONEYPOT\n",
    "#### Precision: 0.9090\n",
    "#### Recall: 0.286\n",
    "#### F1 score: 0.435"
   ]
  },
  {
   "cell_type": "code",
   "execution_count": null,
   "metadata": {},
   "outputs": [],
   "source": []
  },
  {
   "cell_type": "code",
   "execution_count": null,
   "metadata": {},
   "outputs": [],
   "source": []
  }
 ],
 "metadata": {
  "kernelspec": {
   "display_name": "Python 3",
   "language": "python",
   "name": "python3"
  },
  "language_info": {
   "codemirror_mode": {
    "name": "ipython",
    "version": 3
   },
   "file_extension": ".py",
   "mimetype": "text/x-python",
   "name": "python",
   "nbconvert_exporter": "python",
   "pygments_lexer": "ipython3",
   "version": "3.7.7"
  }
 },
 "nbformat": 4,
 "nbformat_minor": 2
}
