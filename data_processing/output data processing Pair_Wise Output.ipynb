{
 "cells": [
  {
   "cell_type": "code",
   "execution_count": 56,
   "metadata": {},
   "outputs": [],
   "source": [
    "import pandas as pd"
   ]
  },
  {
   "cell_type": "code",
   "execution_count": 57,
   "metadata": {},
   "outputs": [],
   "source": [
    "pair_wise_in = pd.read_csv(\"../datasets/Pairwise_HIT.csv\") \n",
    "pair_wise_out1 = pd.read_csv(\"../datasets/Pairwise Batch 2.csv\")\n",
    "pair_wise_out2 = pd.read_csv(\"../datasets/Pairwise Batch 1 50.csv\")"
   ]
  },
  {
   "cell_type": "code",
   "execution_count": 58,
   "metadata": {},
   "outputs": [
    {
     "data": {
      "text/html": [
       "<div>\n",
       "<style scoped>\n",
       "    .dataframe tbody tr th:only-of-type {\n",
       "        vertical-align: middle;\n",
       "    }\n",
       "\n",
       "    .dataframe tbody tr th {\n",
       "        vertical-align: top;\n",
       "    }\n",
       "\n",
       "    .dataframe thead th {\n",
       "        text-align: right;\n",
       "    }\n",
       "</style>\n",
       "<table border=\"1\" class=\"dataframe\">\n",
       "  <thead>\n",
       "    <tr style=\"text-align: right;\">\n",
       "      <th></th>\n",
       "      <th>Unnamed: 0</th>\n",
       "      <th>Record1</th>\n",
       "      <th>Record2</th>\n",
       "      <th>label</th>\n",
       "    </tr>\n",
       "  </thead>\n",
       "  <tbody>\n",
       "    <tr>\n",
       "      <th>0</th>\n",
       "      <td>0</td>\n",
       "      <td>Case Logic 15.6-Inch Laptop and iPad Slim Case...</td>\n",
       "      <td>Case Logic TopLoading Laptop Case Black VNAI-2...</td>\n",
       "      <td>1</td>\n",
       "    </tr>\n",
       "    <tr>\n",
       "      <th>1</th>\n",
       "      <td>1</td>\n",
       "      <td>Royce Leather Unisex Pilot / Catalog Computer ...</td>\n",
       "      <td>Royce Leather 6375</td>\n",
       "      <td>1</td>\n",
       "    </tr>\n",
       "    <tr>\n",
       "      <th>2</th>\n",
       "      <td>2</td>\n",
       "      <td>Acer Aspire V 15 Touch V3-572P-326T Signature ...</td>\n",
       "      <td>Acer 15.6 Aspire Notebook 6 GB Memory 1 TB Har...</td>\n",
       "      <td>0</td>\n",
       "    </tr>\n",
       "    <tr>\n",
       "      <th>3</th>\n",
       "      <td>3</td>\n",
       "      <td>Kensington K64663US ClickSafe Master Keyed Lap...</td>\n",
       "      <td>Agptek.com, Inc LR64F</td>\n",
       "      <td>0</td>\n",
       "    </tr>\n",
       "    <tr>\n",
       "      <th>4</th>\n",
       "      <td>4</td>\n",
       "      <td>Lenovo G410 Laptop Computer - 59410765 - Black...</td>\n",
       "      <td>Lenovo 14 Laptop Intel Core i7 8GB Memory 1TB+...</td>\n",
       "      <td>1</td>\n",
       "    </tr>\n",
       "    <tr>\n",
       "      <th>...</th>\n",
       "      <td>...</td>\n",
       "      <td>...</td>\n",
       "      <td>...</td>\n",
       "      <td>...</td>\n",
       "    </tr>\n",
       "    <tr>\n",
       "      <th>95</th>\n",
       "      <td>95</td>\n",
       "      <td>Case Logic VLS-114 13-Inch, 14-Inch Laptop Sle...</td>\n",
       "      <td>Case Logic Laptop Sleeve Pink LAPS-116PI</td>\n",
       "      <td>1</td>\n",
       "    </tr>\n",
       "    <tr>\n",
       "      <th>96</th>\n",
       "      <td>96</td>\n",
       "      <td>Case Logic 15.6-Inch Laptop Backpack (Anthraci...</td>\n",
       "      <td>Case Logic Laptop Backpack Gray DLBP-116DA</td>\n",
       "      <td>1</td>\n",
       "    </tr>\n",
       "    <tr>\n",
       "      <th>97</th>\n",
       "      <td>97</td>\n",
       "      <td>Case Logic Sleeve for 15.6-Inch Notebook, Purp...</td>\n",
       "      <td>Case Logic 17 Laptop Sleeve Black Black LAPS-117</td>\n",
       "      <td>1</td>\n",
       "    </tr>\n",
       "    <tr>\n",
       "      <th>98</th>\n",
       "      <td>98</td>\n",
       "      <td>17 Inch Red Flowers Floral Design Laptop Compu...</td>\n",
       "      <td>Lenmar LBZ352HP Notebook Batt Black LBZ352HP</td>\n",
       "      <td>0</td>\n",
       "    </tr>\n",
       "    <tr>\n",
       "      <th>99</th>\n",
       "      <td>99</td>\n",
       "      <td>Kingston HyperX Impact Black 8GB Kit (2x4GB) 2...</td>\n",
       "      <td>Cocoon Innovations, LLC CPS380GY</td>\n",
       "      <td>0</td>\n",
       "    </tr>\n",
       "  </tbody>\n",
       "</table>\n",
       "<p>100 rows × 4 columns</p>\n",
       "</div>"
      ],
      "text/plain": [
       "    Unnamed: 0                                            Record1  \\\n",
       "0            0  Case Logic 15.6-Inch Laptop and iPad Slim Case...   \n",
       "1            1  Royce Leather Unisex Pilot / Catalog Computer ...   \n",
       "2            2  Acer Aspire V 15 Touch V3-572P-326T Signature ...   \n",
       "3            3  Kensington K64663US ClickSafe Master Keyed Lap...   \n",
       "4            4  Lenovo G410 Laptop Computer - 59410765 - Black...   \n",
       "..         ...                                                ...   \n",
       "95          95  Case Logic VLS-114 13-Inch, 14-Inch Laptop Sle...   \n",
       "96          96  Case Logic 15.6-Inch Laptop Backpack (Anthraci...   \n",
       "97          97  Case Logic Sleeve for 15.6-Inch Notebook, Purp...   \n",
       "98          98  17 Inch Red Flowers Floral Design Laptop Compu...   \n",
       "99          99  Kingston HyperX Impact Black 8GB Kit (2x4GB) 2...   \n",
       "\n",
       "                                              Record2  label  \n",
       "0   Case Logic TopLoading Laptop Case Black VNAI-2...      1  \n",
       "1                                 Royce Leather 6375       1  \n",
       "2   Acer 15.6 Aspire Notebook 6 GB Memory 1 TB Har...      0  \n",
       "3                              Agptek.com, Inc LR64F       0  \n",
       "4   Lenovo 14 Laptop Intel Core i7 8GB Memory 1TB+...      1  \n",
       "..                                                ...    ...  \n",
       "95          Case Logic Laptop Sleeve Pink LAPS-116PI       1  \n",
       "96        Case Logic Laptop Backpack Gray DLBP-116DA       1  \n",
       "97  Case Logic 17 Laptop Sleeve Black Black LAPS-117       1  \n",
       "98      Lenmar LBZ352HP Notebook Batt Black LBZ352HP       0  \n",
       "99                  Cocoon Innovations, LLC CPS380GY       0  \n",
       "\n",
       "[100 rows x 4 columns]"
      ]
     },
     "execution_count": 58,
     "metadata": {},
     "output_type": "execute_result"
    }
   ],
   "source": [
    "pair_wise_in"
   ]
  },
  {
   "cell_type": "code",
   "execution_count": 59,
   "metadata": {},
   "outputs": [],
   "source": [
    "pair_wise_out=pd.concat([pair_wise_out1,pair_wise_out2])\n",
    "\n",
    "# filtered = pair_wise_out[pair_wise_out[\"Input.Record1\"] == \"Patriot Signature 4 GB PC2-6400 DDR2 Notebook Memory PSD24G8002S\"]\n",
    "# filtered[[\"WorkerId\", \"Input.Record1\", \"Input.Record2\", \"Input.label\", \"Answer.equal.label\"]]\n",
    "\n",
    "\n",
    "# pair_wise_out = pair_wise_out[pair_wise_out[\"WorkerId\"] != \"A373U4XYXC178J\"]\n",
    "# pair_wise_out = pair_wise_out[pair_wise_out[\"WorkerId\"] != \"A3FFYWZLVBQDM6\"]\n",
    "# pair_wise_out = pair_wise_out[pair_wise_out[\"WorkerId\"] != \"A2ZCIU7Z17MHHZ\"]\n",
    "\n",
    "\n",
    "# Patriot Signature 4 GB PC2-6400 DDR2 Notebook Memory PSD24G8002S\n",
    "# Patriot Memory Patriot Signature DDR2 4GB CL PSD24G8002S\n",
    "# They are the same"
   ]
  },
  {
   "cell_type": "code",
   "execution_count": 60,
   "metadata": {},
   "outputs": [],
   "source": [
    "rows=list(pair_wise_out[\"Input.Record1\"].value_counts()[:25].index)"
   ]
  },
  {
   "cell_type": "code",
   "execution_count": 61,
   "metadata": {},
   "outputs": [],
   "source": [
    "labels=[]\n",
    "for i in rows:\n",
    "    df = pair_wise_out.loc[pair_wise_out[\"Input.Record1\"]==i]\n",
    "    labels.append(df[\"Answer.equal.label\"].values[:7])"
   ]
  },
  {
   "cell_type": "code",
   "execution_count": 62,
   "metadata": {},
   "outputs": [],
   "source": [
    "true_labels=[]\n",
    "for i in rows:\n",
    "    df= pair_wise_in.loc[pair_wise_in[\"Record1\"]==i]\n",
    "    true_labels.append(df.label.values[0])"
   ]
  },
  {
   "cell_type": "code",
   "execution_count": 63,
   "metadata": {},
   "outputs": [
    {
     "data": {
      "text/plain": [
       "[1, 0, 1, 1, 1, 0, 1, 0, 0, 1, 1, 1, 0, 0, 0, 1, 0, 1, 0, 0, 1, 1, 1, 0, 1]"
      ]
     },
     "execution_count": 63,
     "metadata": {},
     "output_type": "execute_result"
    }
   ],
   "source": [
    "true_labels"
   ]
  },
  {
   "cell_type": "code",
   "execution_count": 64,
   "metadata": {},
   "outputs": [],
   "source": [
    "worker_labels=[]\n",
    "for i in labels:\n",
    "    numeric_ol = []\n",
    "    for j in i:\n",
    "        if j==\"Yes\":\n",
    "            numeric_ol.append(1)\n",
    "        else:\n",
    "            numeric_ol.append(0)\n",
    "    worker_labels.append(numeric_ol)        "
   ]
  },
  {
   "cell_type": "code",
   "execution_count": 65,
   "metadata": {},
   "outputs": [],
   "source": [
    "final_worker_labels=[]\n",
    "\n",
    "for i in worker_labels:\n",
    "    \n",
    "    final_worker_labels.append(pd.Series(i).value_counts().index[0])"
   ]
  },
  {
   "cell_type": "code",
   "execution_count": 66,
   "metadata": {},
   "outputs": [],
   "source": [
    "import numpy as np\n",
    "from sklearn.metrics import confusion_matrix"
   ]
  },
  {
   "cell_type": "code",
   "execution_count": 67,
   "metadata": {},
   "outputs": [],
   "source": [
    "tn, fp, fn, tp = confusion_matrix(true_labels, final_worker_labels).ravel()"
   ]
  },
  {
   "cell_type": "code",
   "execution_count": 68,
   "metadata": {},
   "outputs": [
    {
     "data": {
      "text/plain": [
       "(11, 0, 13, 1)"
      ]
     },
     "execution_count": 68,
     "metadata": {},
     "output_type": "execute_result"
    }
   ],
   "source": [
    "tn, fp, fn, tp"
   ]
  },
  {
   "cell_type": "code",
   "execution_count": 69,
   "metadata": {},
   "outputs": [
    {
     "data": {
      "text/plain": [
       "1.0"
      ]
     },
     "execution_count": 69,
     "metadata": {},
     "output_type": "execute_result"
    }
   ],
   "source": [
    "Precision=tp/(tp+fp)\n",
    "Precision"
   ]
  },
  {
   "cell_type": "code",
   "execution_count": 71,
   "metadata": {},
   "outputs": [
    {
     "data": {
      "text/plain": [
       "0.07142857142857142"
      ]
     },
     "execution_count": 71,
     "metadata": {},
     "output_type": "execute_result"
    }
   ],
   "source": [
    "Recall=tp/(tp+fn)\n",
    "Recall"
   ]
  },
  {
   "cell_type": "code",
   "execution_count": 72,
   "metadata": {},
   "outputs": [
    {
     "data": {
      "text/plain": [
       "0.13333333333333333"
      ]
     },
     "execution_count": 72,
     "metadata": {},
     "output_type": "execute_result"
    }
   ],
   "source": [
    "f_score=(2 * Precision * Recall) / (Precision + Recall)\n",
    "f_score"
   ]
  },
  {
   "cell_type": "markdown",
   "metadata": {},
   "source": [
    "# With Honeypot:\n",
    "#### Recall = 0.142857\n",
    "#### Precision = 1\n",
    "#### f_score = 0.25"
   ]
  },
  {
   "cell_type": "markdown",
   "metadata": {},
   "source": [
    "# Without Honeypot:\n",
    "#### Recall = 0.07142857\n",
    "#### Precision = 1\n",
    "#### f_score = 0.13333"
   ]
  }
 ],
 "metadata": {
  "kernelspec": {
   "display_name": "Python 3",
   "language": "python",
   "name": "python3"
  },
  "language_info": {
   "codemirror_mode": {
    "name": "ipython",
    "version": 3
   },
   "file_extension": ".py",
   "mimetype": "text/x-python",
   "name": "python",
   "nbconvert_exporter": "python",
   "pygments_lexer": "ipython3",
   "version": "3.7.7"
  }
 },
 "nbformat": 4,
 "nbformat_minor": 2
}
