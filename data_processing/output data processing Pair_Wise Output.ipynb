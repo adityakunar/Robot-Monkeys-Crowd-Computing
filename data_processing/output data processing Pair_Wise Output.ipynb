{
 "cells": [
  {
   "cell_type": "code",
   "execution_count": 1,
   "metadata": {},
   "outputs": [],
   "source": [
    "import pandas as pd"
   ]
  },
  {
   "cell_type": "code",
   "execution_count": 2,
   "metadata": {},
   "outputs": [],
   "source": [
    "pair_wise_in = pd.read_csv(\"input/Pairwise_HIT (1).csv\") \n",
    "pair_wise_out1 = pd.read_csv(\"output/Pairwise Batch.csv\")\n",
    "pair_wise_out2 = pd.read_csv(\"output/Pairwise Batch 1 50.csv\")"
   ]
  },
  {
   "cell_type": "code",
   "execution_count": 3,
   "metadata": {},
   "outputs": [
    {
     "data": {
      "text/html": [
       "<div>\n",
       "<style scoped>\n",
       "    .dataframe tbody tr th:only-of-type {\n",
       "        vertical-align: middle;\n",
       "    }\n",
       "\n",
       "    .dataframe tbody tr th {\n",
       "        vertical-align: top;\n",
       "    }\n",
       "\n",
       "    .dataframe thead th {\n",
       "        text-align: right;\n",
       "    }\n",
       "</style>\n",
       "<table border=\"1\" class=\"dataframe\">\n",
       "  <thead>\n",
       "    <tr style=\"text-align: right;\">\n",
       "      <th></th>\n",
       "      <th>Record1</th>\n",
       "      <th>Record2</th>\n",
       "      <th>label</th>\n",
       "    </tr>\n",
       "  </thead>\n",
       "  <tbody>\n",
       "    <tr>\n",
       "      <th>0</th>\n",
       "      <td>Case Logic 15.6-Inch Laptop and iPad Slim Case...</td>\n",
       "      <td>Case Logic TopLoading Laptop Case Black VNAI-2...</td>\n",
       "      <td>1</td>\n",
       "    </tr>\n",
       "    <tr>\n",
       "      <th>1</th>\n",
       "      <td>Royce Leather Unisex Pilot / Catalog Computer ...</td>\n",
       "      <td>Royce Leather 6375</td>\n",
       "      <td>1</td>\n",
       "    </tr>\n",
       "    <tr>\n",
       "      <th>2</th>\n",
       "      <td>Acer Aspire V 15 Touch V3-572P-326T Signature ...</td>\n",
       "      <td>Acer 15.6 Aspire Notebook 6 GB Memory 1 TB Har...</td>\n",
       "      <td>0</td>\n",
       "    </tr>\n",
       "    <tr>\n",
       "      <th>3</th>\n",
       "      <td>Kensington K64663US ClickSafe Master Keyed Lap...</td>\n",
       "      <td>Agptek.com, Inc LR64F</td>\n",
       "      <td>0</td>\n",
       "    </tr>\n",
       "    <tr>\n",
       "      <th>4</th>\n",
       "      <td>Lenovo G410 Laptop Computer - 59410765 - Black...</td>\n",
       "      <td>Lenovo 14 Laptop Intel Core i7 8GB Memory 1TB+...</td>\n",
       "      <td>1</td>\n",
       "    </tr>\n",
       "    <tr>\n",
       "      <th>5</th>\n",
       "      <td>2015 Newest Edition Dell Inspiron 17 5000 Seri...</td>\n",
       "      <td>Dell Inspiron 15.6 TouchScreen Laptop Intel Co...</td>\n",
       "      <td>0</td>\n",
       "    </tr>\n",
       "    <tr>\n",
       "      <th>6</th>\n",
       "      <td>AmazonBasics Rolling Laptop Case</td>\n",
       "      <td>Case Logic Laptop Backpack Gray DLBP-116DA</td>\n",
       "      <td>1</td>\n",
       "    </tr>\n",
       "    <tr>\n",
       "      <th>7</th>\n",
       "      <td>Case Logic 17-Inch Security Friendly Laptop Ca...</td>\n",
       "      <td>Case Logic Laptop Backpack Black DLBP-116BL</td>\n",
       "      <td>1</td>\n",
       "    </tr>\n",
       "    <tr>\n",
       "      <th>8</th>\n",
       "      <td>Case Logic VNA-216 16-Inch Laptop Attache (Black)</td>\n",
       "      <td>Case Logic Laptop Sleeve Black PLS-15BLAC</td>\n",
       "      <td>1</td>\n",
       "    </tr>\n",
       "    <tr>\n",
       "      <th>9</th>\n",
       "      <td>LapGear Designer Series 300 Lapdesk Damask (48...</td>\n",
       "      <td>Agptek.com, Inc LE8E</td>\n",
       "      <td>0</td>\n",
       "    </tr>\n",
       "    <tr>\n",
       "      <th>10</th>\n",
       "      <td>Sendt Blue Notebook / Laptop Combination Lock ...</td>\n",
       "      <td>Kensington Combination Laptop Lock Black K6467...</td>\n",
       "      <td>1</td>\n",
       "    </tr>\n",
       "    <tr>\n",
       "      <th>11</th>\n",
       "      <td>Solo 17.3 Inch  Laptop Rolling Case,Black, CLS...</td>\n",
       "      <td>Solo Sterling Rolling Overnighter Laptop Case ...</td>\n",
       "      <td>1</td>\n",
       "    </tr>\n",
       "    <tr>\n",
       "      <th>12</th>\n",
       "      <td>Case Logic Jaunt 15.6-Inch Laptop Backpack (WM...</td>\n",
       "      <td>Case Logic Laptop Backpack Black DLBP-116BL</td>\n",
       "      <td>1</td>\n",
       "    </tr>\n",
       "    <tr>\n",
       "      <th>13</th>\n",
       "      <td>Pyle Laptop Projector Stand, Heavy Duty Tripod...</td>\n",
       "      <td>Dantona Industries, Inc DQAD90195530</td>\n",
       "      <td>0</td>\n",
       "    </tr>\n",
       "    <tr>\n",
       "      <th>14</th>\n",
       "      <td>AmazonBasics 14-Inch Laptop Sleeve</td>\n",
       "      <td>Image 2400DPI Optical Adjustable 6D Buttons Wi...</td>\n",
       "      <td>0</td>\n",
       "    </tr>\n",
       "    <tr>\n",
       "      <th>15</th>\n",
       "      <td>Case Logic LAPS-114 14-Inch Laptop Sleeve (Black)</td>\n",
       "      <td>Case Logic Laptop Sleeve Black LAPS-114BL</td>\n",
       "      <td>1</td>\n",
       "    </tr>\n",
       "    <tr>\n",
       "      <th>16</th>\n",
       "      <td>Electricking Replacement Laptop AC Adapter Pow...</td>\n",
       "      <td>HQRP HQRP 72W Laptop AC Adapter 884667309080962</td>\n",
       "      <td>1</td>\n",
       "    </tr>\n",
       "    <tr>\n",
       "      <th>17</th>\n",
       "      <td>Kensington Ladies Fashion Laptop Case Tote 15....</td>\n",
       "      <td>Absolute LoJack for Laptops Premium 3 Year - M...</td>\n",
       "      <td>0</td>\n",
       "    </tr>\n",
       "    <tr>\n",
       "      <th>18</th>\n",
       "      <td>Case Logic 15.6-Inch Laptop Sleeve (LAPS-116)</td>\n",
       "      <td>Case Logic Laptop Sleeve Pink LAPS-116PI</td>\n",
       "      <td>1</td>\n",
       "    </tr>\n",
       "    <tr>\n",
       "      <th>19</th>\n",
       "      <td>Seagate 1TB Laptop Gaming SSHD (Solid State Hy...</td>\n",
       "      <td>Pelican Pelican HardBack 1095CC Carry PC1095CCB</td>\n",
       "      <td>0</td>\n",
       "    </tr>\n",
       "    <tr>\n",
       "      <th>20</th>\n",
       "      <td>Newest Dell Inspiron 14 Inch Laptop with Intel...</td>\n",
       "      <td>Dell 14 Latitude Notebook 4 GB Memory and 128 ...</td>\n",
       "      <td>0</td>\n",
       "    </tr>\n",
       "    <tr>\n",
       "      <th>21</th>\n",
       "      <td>Case Logic 16-Inch Professional Laptop Briefca...</td>\n",
       "      <td>Case Logic iPad and 11 Laptop Messenger MLM-11...</td>\n",
       "      <td>1</td>\n",
       "    </tr>\n",
       "    <tr>\n",
       "      <th>22</th>\n",
       "      <td>Patriot Signature 4 GB PC2-6400 DDR2 Notebook ...</td>\n",
       "      <td>Patriot Memory Patriot Signature DDR2 4GB CL P...</td>\n",
       "      <td>1</td>\n",
       "    </tr>\n",
       "    <tr>\n",
       "      <th>23</th>\n",
       "      <td>Meffort Inc 17 17.3 inch Neoprene Laptop Bag S...</td>\n",
       "      <td>Lenmar Lenmar LBZ378D Notebook Batte Black LBZ...</td>\n",
       "      <td>0</td>\n",
       "    </tr>\n",
       "    <tr>\n",
       "      <th>24</th>\n",
       "      <td>HP ENVY - 15t (Windows 7 Professional, Intel i...</td>\n",
       "      <td>HP ENVY 13.3 Laptop Intel Core i5 8GB Memory 1...</td>\n",
       "      <td>0</td>\n",
       "    </tr>\n",
       "  </tbody>\n",
       "</table>\n",
       "</div>"
      ],
      "text/plain": [
       "                                              Record1  \\\n",
       "0   Case Logic 15.6-Inch Laptop and iPad Slim Case...   \n",
       "1   Royce Leather Unisex Pilot / Catalog Computer ...   \n",
       "2   Acer Aspire V 15 Touch V3-572P-326T Signature ...   \n",
       "3   Kensington K64663US ClickSafe Master Keyed Lap...   \n",
       "4   Lenovo G410 Laptop Computer - 59410765 - Black...   \n",
       "5   2015 Newest Edition Dell Inspiron 17 5000 Seri...   \n",
       "6                    AmazonBasics Rolling Laptop Case   \n",
       "7   Case Logic 17-Inch Security Friendly Laptop Ca...   \n",
       "8   Case Logic VNA-216 16-Inch Laptop Attache (Black)   \n",
       "9   LapGear Designer Series 300 Lapdesk Damask (48...   \n",
       "10  Sendt Blue Notebook / Laptop Combination Lock ...   \n",
       "11  Solo 17.3 Inch  Laptop Rolling Case,Black, CLS...   \n",
       "12  Case Logic Jaunt 15.6-Inch Laptop Backpack (WM...   \n",
       "13  Pyle Laptop Projector Stand, Heavy Duty Tripod...   \n",
       "14                 AmazonBasics 14-Inch Laptop Sleeve   \n",
       "15  Case Logic LAPS-114 14-Inch Laptop Sleeve (Black)   \n",
       "16  Electricking Replacement Laptop AC Adapter Pow...   \n",
       "17  Kensington Ladies Fashion Laptop Case Tote 15....   \n",
       "18      Case Logic 15.6-Inch Laptop Sleeve (LAPS-116)   \n",
       "19  Seagate 1TB Laptop Gaming SSHD (Solid State Hy...   \n",
       "20  Newest Dell Inspiron 14 Inch Laptop with Intel...   \n",
       "21  Case Logic 16-Inch Professional Laptop Briefca...   \n",
       "22  Patriot Signature 4 GB PC2-6400 DDR2 Notebook ...   \n",
       "23  Meffort Inc 17 17.3 inch Neoprene Laptop Bag S...   \n",
       "24  HP ENVY - 15t (Windows 7 Professional, Intel i...   \n",
       "\n",
       "                                              Record2  label  \n",
       "0   Case Logic TopLoading Laptop Case Black VNAI-2...      1  \n",
       "1                                 Royce Leather 6375       1  \n",
       "2   Acer 15.6 Aspire Notebook 6 GB Memory 1 TB Har...      0  \n",
       "3                              Agptek.com, Inc LR64F       0  \n",
       "4   Lenovo 14 Laptop Intel Core i7 8GB Memory 1TB+...      1  \n",
       "5   Dell Inspiron 15.6 TouchScreen Laptop Intel Co...      0  \n",
       "6         Case Logic Laptop Backpack Gray DLBP-116DA       1  \n",
       "7        Case Logic Laptop Backpack Black DLBP-116BL       1  \n",
       "8          Case Logic Laptop Sleeve Black PLS-15BLAC       1  \n",
       "9                               Agptek.com, Inc LE8E       0  \n",
       "10  Kensington Combination Laptop Lock Black K6467...      1  \n",
       "11  Solo Sterling Rolling Overnighter Laptop Case ...      1  \n",
       "12       Case Logic Laptop Backpack Black DLBP-116BL       1  \n",
       "13              Dantona Industries, Inc DQAD90195530       0  \n",
       "14  Image 2400DPI Optical Adjustable 6D Buttons Wi...      0  \n",
       "15         Case Logic Laptop Sleeve Black LAPS-114BL       1  \n",
       "16   HQRP HQRP 72W Laptop AC Adapter 884667309080962       1  \n",
       "17  Absolute LoJack for Laptops Premium 3 Year - M...      0  \n",
       "18          Case Logic Laptop Sleeve Pink LAPS-116PI       1  \n",
       "19   Pelican Pelican HardBack 1095CC Carry PC1095CCB       0  \n",
       "20  Dell 14 Latitude Notebook 4 GB Memory and 128 ...      0  \n",
       "21  Case Logic iPad and 11 Laptop Messenger MLM-11...      1  \n",
       "22  Patriot Memory Patriot Signature DDR2 4GB CL P...      1  \n",
       "23  Lenmar Lenmar LBZ378D Notebook Batte Black LBZ...      0  \n",
       "24  HP ENVY 13.3 Laptop Intel Core i5 8GB Memory 1...      0  "
      ]
     },
     "execution_count": 3,
     "metadata": {},
     "output_type": "execute_result"
    }
   ],
   "source": [
    "pair_wise_in"
   ]
  },
  {
   "cell_type": "code",
   "execution_count": 4,
   "metadata": {},
   "outputs": [],
   "source": [
    "pair_wise_out=pd.concat([pair_wise_out1,pair_wise_out2])"
   ]
  },
  {
   "cell_type": "code",
   "execution_count": 5,
   "metadata": {},
   "outputs": [],
   "source": [
    "rows=list(pair_wise_out[\"Input.Record1\"].value_counts()[:25].index)"
   ]
  },
  {
   "cell_type": "code",
   "execution_count": 20,
   "metadata": {},
   "outputs": [
    {
     "data": {
      "text/plain": [
       "[]"
      ]
     },
     "execution_count": 20,
     "metadata": {},
     "output_type": "execute_result"
    }
   ],
   "source": [
    "timing"
   ]
  },
  {
   "cell_type": "code",
   "execution_count": 21,
   "metadata": {},
   "outputs": [],
   "source": [
    "labels=[]\n",
    "timing=[]\n",
    "for i in rows:\n",
    "    df = pair_wise_out.loc[pair_wise_out[\"Input.Record1\"]==i]\n",
    "    timing.append(df[\"WorkTimeInSeconds\"].values[:7])"
   ]
  },
  {
   "cell_type": "code",
   "execution_count": 23,
   "metadata": {},
   "outputs": [],
   "source": [
    "timings=[]\n",
    "\n",
    "for i in timing:\n",
    "    for j in i:\n",
    "        timings.append(j)"
   ]
  },
  {
   "cell_type": "code",
   "execution_count": 27,
   "metadata": {},
   "outputs": [
    {
     "data": {
      "text/plain": [
       "28.091428571428573"
      ]
     },
     "execution_count": 27,
     "metadata": {},
     "output_type": "execute_result"
    }
   ],
   "source": [
    "import numpy as np\n",
    "np.array(timings).mean()"
   ]
  },
  {
   "cell_type": "code",
   "execution_count": 45,
   "metadata": {},
   "outputs": [],
   "source": [
    "true_labels=[]\n",
    "for i in rows:\n",
    "    df= pair_wise_in.loc[pair_wise_in[\"Record1\"]==i]\n",
    "    true_labels.append(df.label.values[0])"
   ]
  },
  {
   "cell_type": "code",
   "execution_count": 46,
   "metadata": {},
   "outputs": [
    {
     "data": {
      "text/plain": [
       "[1, 0, 1, 1, 1, 0, 1, 0, 1, 0, 0, 1, 0, 0, 1, 1, 0, 0, 1, 1, 0, 0, 1, 1, 1]"
      ]
     },
     "execution_count": 46,
     "metadata": {},
     "output_type": "execute_result"
    }
   ],
   "source": [
    "true_labels"
   ]
  },
  {
   "cell_type": "code",
   "execution_count": 49,
   "metadata": {},
   "outputs": [],
   "source": [
    "worker_labels=[]\n",
    "for i in labels:\n",
    "    numeric_ol = []\n",
    "    for j in i:\n",
    "        if j==\"Yes\":\n",
    "            numeric_ol.append(1)\n",
    "        else:\n",
    "            numeric_ol.append(0)\n",
    "    worker_labels.append(numeric_ol)        "
   ]
  },
  {
   "cell_type": "code",
   "execution_count": 57,
   "metadata": {},
   "outputs": [],
   "source": [
    "final_worker_labels=[]\n",
    "\n",
    "for i in worker_labels:\n",
    "    \n",
    "    final_worker_labels.append(pd.Series(i).value_counts().index[0])"
   ]
  },
  {
   "cell_type": "code",
   "execution_count": 58,
   "metadata": {},
   "outputs": [
    {
     "data": {
      "text/plain": [
       "[0, 0, 0, 0, 0, 0, 0, 0, 0, 0, 0, 0, 0, 0, 1, 0, 0, 0, 0, 0, 0, 0, 0, 0, 0]"
      ]
     },
     "execution_count": 58,
     "metadata": {},
     "output_type": "execute_result"
    }
   ],
   "source": [
    "final_labels"
   ]
  },
  {
   "cell_type": "code",
   "execution_count": 59,
   "metadata": {},
   "outputs": [
    {
     "data": {
      "text/plain": [
       "[[0, 0, 0, 0, 0, 0, 0],\n",
       " [0, 0, 0, 0, 0, 0, 0],\n",
       " [1, 0, 0, 0, 0, 1, 0],\n",
       " [0, 0, 0, 0, 0, 0, 0],\n",
       " [0, 0, 0, 0, 0, 0, 0],\n",
       " [0, 1, 0, 0, 0, 0, 0],\n",
       " [0, 0, 1, 1, 1, 0, 0],\n",
       " [0, 0, 0, 0, 0, 0, 0],\n",
       " [1, 0, 0, 0, 1, 0, 0],\n",
       " [0, 0, 0, 0, 0, 0, 0],\n",
       " [0, 0, 1, 0, 1, 0, 0],\n",
       " [0, 0, 1, 0, 0, 0, 0],\n",
       " [0, 1, 0, 0, 0, 0, 0],\n",
       " [0, 0, 0, 0, 1, 0, 0],\n",
       " [1, 0, 0, 0, 1, 1, 1],\n",
       " [0, 0, 0, 0, 0, 0, 0],\n",
       " [0, 0, 0, 0, 0, 0, 0],\n",
       " [0, 0, 0, 0, 0, 0, 0],\n",
       " [0, 1, 0, 0, 1, 0, 0],\n",
       " [0, 0, 0, 0, 0, 0, 0],\n",
       " [0, 0, 0, 0, 0, 0, 0],\n",
       " [0, 0, 0, 0, 0, 0, 0],\n",
       " [0, 0, 0, 0, 0, 1, 0],\n",
       " [0, 0, 0, 0, 0, 0, 0],\n",
       " [0, 1, 0, 0, 0, 1, 0]]"
      ]
     },
     "execution_count": 59,
     "metadata": {},
     "output_type": "execute_result"
    }
   ],
   "source": [
    "worker_labels"
   ]
  },
  {
   "cell_type": "code",
   "execution_count": 89,
   "metadata": {},
   "outputs": [],
   "source": [
    "import numpy as np\n",
    "from sklearn.metrics import confusion_matrix"
   ]
  },
  {
   "cell_type": "code",
   "execution_count": 71,
   "metadata": {},
   "outputs": [],
   "source": [
    "tn, fp, fn, tp = confusion_matrix(true_labels, final_worker_labels).ravel()"
   ]
  },
  {
   "cell_type": "code",
   "execution_count": 72,
   "metadata": {},
   "outputs": [
    {
     "data": {
      "text/plain": [
       "(11, 0, 13, 1)"
      ]
     },
     "execution_count": 72,
     "metadata": {},
     "output_type": "execute_result"
    }
   ],
   "source": [
    "tn, fp, fn, tp"
   ]
  },
  {
   "cell_type": "code",
   "execution_count": 90,
   "metadata": {},
   "outputs": [
    {
     "data": {
      "text/plain": [
       "1.0"
      ]
     },
     "execution_count": 90,
     "metadata": {},
     "output_type": "execute_result"
    }
   ],
   "source": [
    "Precision=tp/(tp+fp)\n",
    "Precision"
   ]
  },
  {
   "cell_type": "code",
   "execution_count": 86,
   "metadata": {},
   "outputs": [
    {
     "data": {
      "text/plain": [
       "0.07142857142857142"
      ]
     },
     "execution_count": 86,
     "metadata": {},
     "output_type": "execute_result"
    }
   ],
   "source": [
    "Recall=tp/(tp+fn)\n",
    "recall"
   ]
  },
  {
   "cell_type": "code",
   "execution_count": 88,
   "metadata": {},
   "outputs": [
    {
     "data": {
      "text/plain": [
       "0.13333333333333333"
      ]
     },
     "execution_count": 88,
     "metadata": {},
     "output_type": "execute_result"
    }
   ],
   "source": [
    "f_score=(2 * Precision * Recall) / (Precision + Recall)\n",
    "f_score"
   ]
  },
  {
   "cell_type": "code",
   "execution_count": null,
   "metadata": {},
   "outputs": [],
   "source": []
  }
 ],
 "metadata": {
  "kernelspec": {
   "display_name": "Python 3",
   "language": "python",
   "name": "python3"
  },
  "language_info": {
   "codemirror_mode": {
    "name": "ipython",
    "version": 3
   },
   "file_extension": ".py",
   "mimetype": "text/x-python",
   "name": "python",
   "nbconvert_exporter": "python",
   "pygments_lexer": "ipython3",
   "version": "3.7.3"
  }
 },
 "nbformat": 4,
 "nbformat_minor": 2
}
