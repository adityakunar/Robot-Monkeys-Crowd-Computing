{
 "cells": [
  {
   "cell_type": "code",
   "execution_count": 2,
   "metadata": {},
   "outputs": [],
   "source": [
    "import pandas as pd"
   ]
  },
  {
   "cell_type": "code",
   "execution_count": 3,
   "metadata": {},
   "outputs": [],
   "source": [
    "pair_wise_out = pd.read_csv(\"Leave-one-out Pilot.csv\") \n",
    "pair_wise_in = pd.read_csv(\"Odd-one-out.csv\")"
   ]
  },
  {
   "cell_type": "code",
   "execution_count": 6,
   "metadata": {},
   "outputs": [
    {
     "data": {
      "text/plain": [
       "array([0, 2, 3, 4, 0, 3, 2, 0, 0, 1, 2, 4, 0, 4, 4], dtype=int64)"
      ]
     },
     "execution_count": 6,
     "metadata": {},
     "output_type": "execute_result"
    }
   ],
   "source": [
    "true_labels = pair_wise_in.Label.values[:15]\n",
    "true_labels"
   ]
  },
  {
   "cell_type": "code",
   "execution_count": 7,
   "metadata": {},
   "outputs": [
    {
     "data": {
      "text/plain": [
       "0             'Fraggment an sich I (Weltentraum)'\n",
       "1             'Fraggment an sich I (Weltentraum)'\n",
       "2             'Fraggment an sich I (Weltentraum)'\n",
       "3             'Fraggment an sich I (Weltentraum)'\n",
       "4             'Fraggment an sich I (Weltentraum)'\n",
       "5     \"Véronique Rivière - Baby, I'm a Want You\" \n",
       "6     \"Véronique Rivière - Baby, I'm a Want You\" \n",
       "7     \"Véronique Rivière - Baby, I'm a Want You\" \n",
       "8     \"Véronique Rivière - Baby, I'm a Want You\" \n",
       "9     \"Véronique Rivière - Baby, I'm a Want You\" \n",
       "10                       \"Don't Dream It's Over\" \n",
       "11                       \"Don't Dream It's Over\" \n",
       "12                       \"Don't Dream It's Over\" \n",
       "13                       \"Don't Dream It's Over\" \n",
       "14                       \"Don't Dream It's Over\" \n",
       "Name: Input.Record1, dtype: object"
      ]
     },
     "execution_count": 7,
     "metadata": {},
     "output_type": "execute_result"
    }
   ],
   "source": [
    "pair_wise_out[\"Input.Record1\"][:15]"
   ]
  },
  {
   "cell_type": "code",
   "execution_count": 12,
   "metadata": {},
   "outputs": [
    {
     "data": {
      "text/plain": [
       "0        NaN\n",
       "1        NaN\n",
       "2        NaN\n",
       "3        NaN\n",
       "4        NaN\n",
       "       ...  \n",
       "70    Item 4\n",
       "71    Item 4\n",
       "72    Item 4\n",
       "73    Item 4\n",
       "74    Item 4\n",
       "Name: Answer.one-out.label, Length: 75, dtype: object"
      ]
     },
     "execution_count": 12,
     "metadata": {},
     "output_type": "execute_result"
    }
   ],
   "source": []
  },
  {
   "cell_type": "code",
   "execution_count": 13,
   "metadata": {},
   "outputs": [],
   "source": [
    "output_labels=pair_wise_out[\"Answer.one-out.label\"].values"
   ]
  },
  {
   "cell_type": "code",
   "execution_count": 19,
   "metadata": {},
   "outputs": [
    {
     "data": {
      "text/plain": [
       "array([nan, nan, nan, nan, nan, 'Item 2', 'Item 2', 'Item 2', 'Item 2',\n",
       "       'Item 2', 'Item 3', 'Item 3', 'Item 3', 'Item 3', 'Item 3',\n",
       "       'Item 4', 'Item 4', 'Item 4', 'Item 4', 'Item 4', nan, nan, nan,\n",
       "       nan, nan, 'Item 3', 'Item 3', 'Item 3', 'Item 3', 'Item 3',\n",
       "       'Item 2', 'Item 2', 'Item 2', 'Item 2', 'Item 2', nan, nan, nan,\n",
       "       nan, nan, nan, nan, nan, nan, nan, 'Item 1', 'Item 1', 'Item 1',\n",
       "       'Item 1', 'Item 1', 'Item 2', 'Item 2', 'Item 2', 'Item 2',\n",
       "       'Item 2', 'Item 4', 'Item 4', 'Item 4', 'Item 4', 'Item 4', nan,\n",
       "       nan, nan, nan, nan, 'Item 4', 'Item 4', 'Item 4', 'Item 4',\n",
       "       'Item 4', 'Item 4', 'Item 4', 'Item 4', 'Item 4', 'Item 4'],\n",
       "      dtype=object)"
      ]
     },
     "execution_count": 19,
     "metadata": {},
     "output_type": "execute_result"
    }
   ],
   "source": [
    "output_labels"
   ]
  },
  {
   "cell_type": "code",
   "execution_count": 20,
   "metadata": {},
   "outputs": [],
   "source": [
    "numeric_ol = []\n",
    "for i in output_labels:\n",
    "    if i==\"Item 1\":\n",
    "        numeric_ol.append(1)\n",
    "    elif i==\"Item 2\":\n",
    "        numeric_ol.append(2)\n",
    "    elif i==\"Item 3\":\n",
    "        numeric_ol.append(3)\n",
    "    elif i==\"Item 4\":\n",
    "        numeric_ol.append(4) \n",
    "    else:\n",
    "        numeric_ol.append(0)    "
   ]
  },
  {
   "cell_type": "code",
   "execution_count": 21,
   "metadata": {},
   "outputs": [],
   "source": [
    "no_of_workers= 5\n",
    "worker_labels=[]\n",
    "for i in range(0,len(numeric_ol),no_of_workers):\n",
    "    worker_labels.append(numeric_ol[i:i+no_of_workers])\n"
   ]
  },
  {
   "cell_type": "code",
   "execution_count": 22,
   "metadata": {},
   "outputs": [
    {
     "data": {
      "text/plain": [
       "[[0, 0, 0, 0, 0],\n",
       " [2, 2, 2, 2, 2],\n",
       " [3, 3, 3, 3, 3],\n",
       " [4, 4, 4, 4, 4],\n",
       " [0, 0, 0, 0, 0],\n",
       " [3, 3, 3, 3, 3],\n",
       " [2, 2, 2, 2, 2],\n",
       " [0, 0, 0, 0, 0],\n",
       " [0, 0, 0, 0, 0],\n",
       " [1, 1, 1, 1, 1],\n",
       " [2, 2, 2, 2, 2],\n",
       " [4, 4, 4, 4, 4],\n",
       " [0, 0, 0, 0, 0],\n",
       " [4, 4, 4, 4, 4],\n",
       " [4, 4, 4, 4, 4]]"
      ]
     },
     "execution_count": 22,
     "metadata": {},
     "output_type": "execute_result"
    }
   ],
   "source": [
    "worker_labels"
   ]
  },
  {
   "cell_type": "code",
   "execution_count": 23,
   "metadata": {},
   "outputs": [],
   "source": [
    "# Majority voting with 5.\n",
    "single_label_5=[]\n",
    "for i in (worker_labels):\n",
    "    (single_label_5.append(pd.Series(i).value_counts().index[0]))\n",
    "    "
   ]
  },
  {
   "cell_type": "code",
   "execution_count": 24,
   "metadata": {},
   "outputs": [],
   "source": [
    "#Majority voting with 3.\n",
    "single_label_3=[]\n",
    "for i in (worker_labels):\n",
    "    (single_label_3.append(pd.Series(i[:3]).value_counts().index[0]))"
   ]
  },
  {
   "cell_type": "code",
   "execution_count": 25,
   "metadata": {},
   "outputs": [
    {
     "data": {
      "text/plain": [
       "[0, 2, 3, 4, 0, 3, 2, 0, 0, 1, 2, 4, 0, 4, 4]"
      ]
     },
     "execution_count": 25,
     "metadata": {},
     "output_type": "execute_result"
    }
   ],
   "source": [
    "single_label_5"
   ]
  },
  {
   "cell_type": "code",
   "execution_count": 26,
   "metadata": {},
   "outputs": [
    {
     "data": {
      "text/plain": [
       "[0, 2, 3, 4, 0, 3, 2, 0, 0, 1, 2, 4, 0, 4, 4]"
      ]
     },
     "execution_count": 26,
     "metadata": {},
     "output_type": "execute_result"
    }
   ],
   "source": [
    "single_label_3"
   ]
  },
  {
   "cell_type": "code",
   "execution_count": 27,
   "metadata": {},
   "outputs": [],
   "source": [
    "import numpy as np"
   ]
  },
  {
   "cell_type": "code",
   "execution_count": 32,
   "metadata": {},
   "outputs": [],
   "source": [
    "from sklearn.metrics import precision_recall_fscore_support\n",
    "from sklearn.metrics import confusion_matrix\n",
    "from sklearn.metrics import multilabel_confusion_matrix"
   ]
  },
  {
   "cell_type": "code",
   "execution_count": 33,
   "metadata": {},
   "outputs": [
    {
     "data": {
      "text/plain": [
       "(1.0, 1.0, 1.0, None)"
      ]
     },
     "execution_count": 33,
     "metadata": {},
     "output_type": "execute_result"
    }
   ],
   "source": [
    "#precision, recall, f_score.\n",
    "precision_recall_fscore_support(true_labels, single_label_5, average='macro')"
   ]
  },
  {
   "cell_type": "code",
   "execution_count": 34,
   "metadata": {},
   "outputs": [
    {
     "data": {
      "text/plain": [
       "(1.0, 1.0, 1.0, None)"
      ]
     },
     "execution_count": 34,
     "metadata": {},
     "output_type": "execute_result"
    }
   ],
   "source": [
    "#precision, recall, f_score. \n",
    "precision_recall_fscore_support(true_labels, single_label_3, average='macro')"
   ]
  },
  {
   "cell_type": "markdown",
   "metadata": {},
   "source": [
    "precision_recall curve is not possible as no probabilities are involved in the sense that majority voting is used to determine labels and not a classifier for which the threshold can be varied!^<<..>>./\\../\\. "
   ]
  },
  {
   "cell_type": "code",
   "execution_count": 38,
   "metadata": {},
   "outputs": [
    {
     "data": {
      "text/plain": [
       "array([[[10,  0],\n",
       "        [ 0,  5]],\n",
       "\n",
       "       [[14,  0],\n",
       "        [ 0,  1]],\n",
       "\n",
       "       [[12,  0],\n",
       "        [ 0,  3]],\n",
       "\n",
       "       [[13,  0],\n",
       "        [ 0,  2]],\n",
       "\n",
       "       [[11,  0],\n",
       "        [ 0,  4]]], dtype=int64)"
      ]
     },
     "execution_count": 38,
     "metadata": {},
     "output_type": "execute_result"
    }
   ],
   "source": [
    "multilabel_confusion_matrix(true_labels, single_label_3)# its the same for 5 workers here. \n",
    "#Nothing really to see here all True positives and True negatives are correctly identified for all different options basically..."
   ]
  },
  {
   "cell_type": "code",
   "execution_count": 39,
   "metadata": {},
   "outputs": [],
   "source": [
    "#Oh we need no folks for this task!"
   ]
  },
  {
   "cell_type": "code",
   "execution_count": null,
   "metadata": {},
   "outputs": [],
   "source": []
  }
 ],
 "metadata": {
  "kernelspec": {
   "display_name": "Python 3",
   "language": "python",
   "name": "python3"
  },
  "language_info": {
   "codemirror_mode": {
    "name": "ipython",
    "version": 3
   },
   "file_extension": ".py",
   "mimetype": "text/x-python",
   "name": "python",
   "nbconvert_exporter": "python",
   "pygments_lexer": "ipython3",
   "version": "3.7.3"
  }
 },
 "nbformat": 4,
 "nbformat_minor": 2
}
