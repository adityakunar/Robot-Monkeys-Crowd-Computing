{
 "cells": [
  {
   "cell_type": "code",
   "execution_count": 1,
   "metadata": {},
   "outputs": [],
   "source": [
    "import pandas as pd"
   ]
  },
  {
   "cell_type": "code",
   "execution_count": 6,
   "metadata": {},
   "outputs": [],
   "source": [
    "pair_wise_out = pd.read_csv(\"Pairwise Pilot.csv\") \n",
    "pair_wise_in = pd.read_csv(\"Pairwise_HIT.csv\")"
   ]
  },
  {
   "cell_type": "code",
   "execution_count": 10,
   "metadata": {},
   "outputs": [],
   "source": [
    "true_labels = pair_wise_in.label.values[:15]"
   ]
  },
  {
   "cell_type": "code",
   "execution_count": 14,
   "metadata": {},
   "outputs": [
    {
     "data": {
      "text/plain": [
       "0     Case Logic 15.6-Inch Laptop and iPad Slim Case...\n",
       "1     Case Logic 15.6-Inch Laptop and iPad Slim Case...\n",
       "2     Case Logic 15.6-Inch Laptop and iPad Slim Case...\n",
       "3     Case Logic 15.6-Inch Laptop and iPad Slim Case...\n",
       "4     Case Logic 15.6-Inch Laptop and iPad Slim Case...\n",
       "5     Royce Leather Unisex Pilot / Catalog Computer ...\n",
       "6     Royce Leather Unisex Pilot / Catalog Computer ...\n",
       "7     Royce Leather Unisex Pilot / Catalog Computer ...\n",
       "8     Royce Leather Unisex Pilot / Catalog Computer ...\n",
       "9     Royce Leather Unisex Pilot / Catalog Computer ...\n",
       "10    Acer Aspire V 15 Touch V3-572P-326T Signature ...\n",
       "11    Acer Aspire V 15 Touch V3-572P-326T Signature ...\n",
       "12    Acer Aspire V 15 Touch V3-572P-326T Signature ...\n",
       "13    Acer Aspire V 15 Touch V3-572P-326T Signature ...\n",
       "14    Acer Aspire V 15 Touch V3-572P-326T Signature ...\n",
       "Name: Input.Record1, dtype: object"
      ]
     },
     "execution_count": 14,
     "metadata": {},
     "output_type": "execute_result"
    }
   ],
   "source": [
    "pair_wise_out[\"Input.Record1\"][:15]"
   ]
  },
  {
   "cell_type": "code",
   "execution_count": 18,
   "metadata": {},
   "outputs": [],
   "source": [
    "output_labels=pair_wise_out[\"Answer.equal.label\"].values"
   ]
  },
  {
   "cell_type": "code",
   "execution_count": 19,
   "metadata": {},
   "outputs": [],
   "source": [
    "numeric_ol = []\n",
    "for i in output_labels:\n",
    "    if i==\"Yes\":\n",
    "        numeric_ol.append(1)\n",
    "    else:\n",
    "        numeric_ol.append(0)"
   ]
  },
  {
   "cell_type": "code",
   "execution_count": 22,
   "metadata": {},
   "outputs": [],
   "source": [
    "no_of_workers= 5\n",
    "worker_labels=[]\n",
    "for i in range(0,len(numeric_ol),no_of_workers):\n",
    "    worker_labels.append(numeric_ol[i:i+no_of_workers])\n"
   ]
  },
  {
   "cell_type": "code",
   "execution_count": 33,
   "metadata": {},
   "outputs": [],
   "source": [
    "# Majority voting with 5.\n",
    "single_label_5=[]\n",
    "for i in (worker_labels):\n",
    "    (single_label_5.append(pd.Series(i).value_counts().index[0]))\n",
    "    "
   ]
  },
  {
   "cell_type": "code",
   "execution_count": 34,
   "metadata": {},
   "outputs": [],
   "source": [
    "#Majority voting with 3.\n",
    "single_label_3=[]\n",
    "for i in (worker_labels):\n",
    "    (single_label_3.append(pd.Series(i[:3]).value_counts().index[0]))"
   ]
  },
  {
   "cell_type": "code",
   "execution_count": 35,
   "metadata": {},
   "outputs": [
    {
     "data": {
      "text/plain": [
       "[0, 1, 0, 0, 0, 0, 0, 0, 1, 0, 0, 1, 1, 0, 0]"
      ]
     },
     "execution_count": 35,
     "metadata": {},
     "output_type": "execute_result"
    }
   ],
   "source": [
    "single_label_5"
   ]
  },
  {
   "cell_type": "code",
   "execution_count": 36,
   "metadata": {},
   "outputs": [
    {
     "data": {
      "text/plain": [
       "[0, 1, 0, 0, 1, 0, 0, 0, 0, 0, 0, 0, 0, 0, 0]"
      ]
     },
     "execution_count": 36,
     "metadata": {},
     "output_type": "execute_result"
    }
   ],
   "source": [
    "single_label_3"
   ]
  },
  {
   "cell_type": "code",
   "execution_count": 37,
   "metadata": {},
   "outputs": [],
   "source": [
    "import numpy as np"
   ]
  },
  {
   "cell_type": "code",
   "execution_count": 42,
   "metadata": {},
   "outputs": [],
   "source": [
    "from sklearn.metrics import precision_recall_fscore_support\n",
    "from sklearn.metrics import confusion_matrix\n"
   ]
  },
  {
   "cell_type": "code",
   "execution_count": 39,
   "metadata": {},
   "outputs": [
    {
     "data": {
      "text/plain": [
       "(0.7727272727272727, 0.7222222222222222, 0.6606334841628958, None)"
      ]
     },
     "execution_count": 39,
     "metadata": {},
     "output_type": "execute_result"
    }
   ],
   "source": [
    "#precision, recall, f_score.\n",
    "precision_recall_fscore_support(true_labels, single_label_5, average='macro')"
   ]
  },
  {
   "cell_type": "code",
   "execution_count": 40,
   "metadata": {},
   "outputs": [
    {
     "data": {
      "text/plain": [
       "(0.7307692307692308, 0.6111111111111112, 0.4976076555023923, None)"
      ]
     },
     "execution_count": 40,
     "metadata": {},
     "output_type": "execute_result"
    }
   ],
   "source": [
    "#precision, recall, f_score. \n",
    "precision_recall_fscore_support(true_labels, single_label_3, average='macro')"
   ]
  },
  {
   "cell_type": "markdown",
   "metadata": {},
   "source": [
    "precision_recall curve is not possible as no probabilities are involved in the sense that majority voting is used to determine labels and not a classifier for which the threshold can be varied!^<<..>>./\\../\\. "
   ]
  },
  {
   "cell_type": "code",
   "execution_count": 44,
   "metadata": {},
   "outputs": [],
   "source": [
    "tn, fp, fn, tp = confusion_matrix(true_labels, single_label_5).ravel()"
   ]
  },
  {
   "cell_type": "code",
   "execution_count": 45,
   "metadata": {},
   "outputs": [
    {
     "data": {
      "text/plain": [
       "(6, 0, 5, 4)"
      ]
     },
     "execution_count": 45,
     "metadata": {},
     "output_type": "execute_result"
    }
   ],
   "source": [
    "tn, fp, fn, tp"
   ]
  },
  {
   "cell_type": "code",
   "execution_count": 46,
   "metadata": {},
   "outputs": [],
   "source": [
    "tn, fp, fn, tp = confusion_matrix(true_labels, single_label_3).ravel()"
   ]
  },
  {
   "cell_type": "code",
   "execution_count": 47,
   "metadata": {},
   "outputs": [
    {
     "data": {
      "text/plain": [
       "(6, 0, 7, 2)"
      ]
     },
     "execution_count": 47,
     "metadata": {},
     "output_type": "execute_result"
    }
   ],
   "source": [
    "tn, fp, fn, tp"
   ]
  },
  {
   "cell_type": "code",
   "execution_count": 48,
   "metadata": {},
   "outputs": [],
   "source": [
    "#Oh we need more folks for this task!"
   ]
  },
  {
   "cell_type": "code",
   "execution_count": null,
   "metadata": {},
   "outputs": [],
   "source": []
  }
 ],
 "metadata": {
  "kernelspec": {
   "display_name": "Python 3",
   "language": "python",
   "name": "python3"
  },
  "language_info": {
   "codemirror_mode": {
    "name": "ipython",
    "version": 3
   },
   "file_extension": ".py",
   "mimetype": "text/x-python",
   "name": "python",
   "nbconvert_exporter": "python",
   "pygments_lexer": "ipython3",
   "version": "3.7.3"
  }
 },
 "nbformat": 4,
 "nbformat_minor": 2
}
